{
  "nbformat": 4,
  "nbformat_minor": 0,
  "metadata": {
    "colab": {
      "name": "task_5_datascience.ipynb",
      "provenance": [],
      "collapsed_sections": [],
      "include_colab_link": true
    },
    "kernelspec": {
      "name": "python3",
      "display_name": "Python 3"
    },
    "language_info": {
      "name": "python"
    }
  },
  "cells": [
    {
      "cell_type": "markdown",
      "metadata": {
        "id": "view-in-github",
        "colab_type": "text"
      },
      "source": [
        "<a href=\"https://colab.research.google.com/github/niteshkumar0205/NITESHKUMAR/blob/main/task_5_datascience.ipynb\" target=\"_parent\"><img src=\"https://colab.research.google.com/assets/colab-badge.svg\" alt=\"Open In Colab\"/></a>"
      ]
    },
    {
      "cell_type": "markdown",
      "metadata": {
        "id": "1-ihS5eXauPT"
      },
      "source": [
        "## IPL Dataset analysis\n",
        "\n",
        "#Intern name : Niteshkumar G\n",
        "#Task 5: Exploratory Data Analysis - Sports Dataset :https://bit.ly/34SRn3b \n",
        "#Problem Statement :As a sports analysts, find out the most successful teams, players and factors contributing win or loss of a team. \n",
        "\n",
        "\n",
        "![1519895156650.png](data:image/png;base64,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)\n"
      ]
    },
    {
      "cell_type": "code",
      "metadata": {
        "id": "sEVSejtC-D7X"
      },
      "source": [
        ""
      ],
      "execution_count": null,
      "outputs": []
    },
    {
      "cell_type": "markdown",
      "metadata": {
        "id": "4DFbk6LG-H-V"
      },
      "source": [
        "#Importing libraries"
      ]
    },
    {
      "cell_type": "code",
      "metadata": {
        "id": "IGwXzio5aZQ7"
      },
      "source": [
        "import pandas as pd\n",
        "import numpy as np\n",
        "import matplotlib.pyplot as plt\n",
        "import seaborn as sns"
      ],
      "execution_count": 5,
      "outputs": []
    },
    {
      "cell_type": "code",
      "metadata": {
        "id": "Ckp0W4rNdUKG"
      },
      "source": [
        "#Importing the dataset\n",
        "\n",
        "data = pd.read_csv(\"/content/matches.csv\")"
      ],
      "execution_count": 6,
      "outputs": []
    },
    {
      "cell_type": "code",
      "metadata": {
        "colab": {
          "base_uri": "https://localhost:8080/",
          "height": 440
        },
        "id": "Z_m_CyFHdbjE",
        "outputId": "9b4b8595-c5dd-4ef8-8928-462b68462dfb"
      },
      "source": [
        "data.head()"
      ],
      "execution_count": 39,
      "outputs": [
        {
          "output_type": "execute_result",
          "data": {
            "text/html": [
              "<div>\n",
              "<style scoped>\n",
              "    .dataframe tbody tr th:only-of-type {\n",
              "        vertical-align: middle;\n",
              "    }\n",
              "\n",
              "    .dataframe tbody tr th {\n",
              "        vertical-align: top;\n",
              "    }\n",
              "\n",
              "    .dataframe thead th {\n",
              "        text-align: right;\n",
              "    }\n",
              "</style>\n",
              "<table border=\"1\" class=\"dataframe\">\n",
              "  <thead>\n",
              "    <tr style=\"text-align: right;\">\n",
              "      <th></th>\n",
              "      <th>id</th>\n",
              "      <th>season</th>\n",
              "      <th>city</th>\n",
              "      <th>date</th>\n",
              "      <th>team1</th>\n",
              "      <th>team2</th>\n",
              "      <th>toss_winner</th>\n",
              "      <th>toss_decision</th>\n",
              "      <th>result</th>\n",
              "      <th>dl_applied</th>\n",
              "      <th>winner</th>\n",
              "      <th>win_by_runs</th>\n",
              "      <th>win_by_wickets</th>\n",
              "      <th>player_of_match</th>\n",
              "      <th>venue</th>\n",
              "      <th>umpire1</th>\n",
              "      <th>umpire2</th>\n",
              "    </tr>\n",
              "  </thead>\n",
              "  <tbody>\n",
              "    <tr>\n",
              "      <th>0</th>\n",
              "      <td>1</td>\n",
              "      <td>2017</td>\n",
              "      <td>Hyderabad</td>\n",
              "      <td>2017-04-05</td>\n",
              "      <td>Sunrisers Hyderabad</td>\n",
              "      <td>Royal Challengers Bangalore</td>\n",
              "      <td>Royal Challengers Bangalore</td>\n",
              "      <td>field</td>\n",
              "      <td>normal</td>\n",
              "      <td>0</td>\n",
              "      <td>Sunrisers Hyderabad</td>\n",
              "      <td>35</td>\n",
              "      <td>0</td>\n",
              "      <td>Yuvraj Singh</td>\n",
              "      <td>Rajiv Gandhi International Stadium, Uppal</td>\n",
              "      <td>AY Dandekar</td>\n",
              "      <td>NJ Llong</td>\n",
              "    </tr>\n",
              "    <tr>\n",
              "      <th>1</th>\n",
              "      <td>2</td>\n",
              "      <td>2017</td>\n",
              "      <td>Pune</td>\n",
              "      <td>2017-04-06</td>\n",
              "      <td>Mumbai Indians</td>\n",
              "      <td>Rising Pune Supergiant</td>\n",
              "      <td>Rising Pune Supergiant</td>\n",
              "      <td>field</td>\n",
              "      <td>normal</td>\n",
              "      <td>0</td>\n",
              "      <td>Rising Pune Supergiant</td>\n",
              "      <td>0</td>\n",
              "      <td>7</td>\n",
              "      <td>SPD Smith</td>\n",
              "      <td>Maharashtra Cricket Association Stadium</td>\n",
              "      <td>A Nand Kishore</td>\n",
              "      <td>S Ravi</td>\n",
              "    </tr>\n",
              "    <tr>\n",
              "      <th>2</th>\n",
              "      <td>3</td>\n",
              "      <td>2017</td>\n",
              "      <td>Rajkot</td>\n",
              "      <td>2017-04-07</td>\n",
              "      <td>Gujarat Lions</td>\n",
              "      <td>Kolkata Knight Riders</td>\n",
              "      <td>Kolkata Knight Riders</td>\n",
              "      <td>field</td>\n",
              "      <td>normal</td>\n",
              "      <td>0</td>\n",
              "      <td>Kolkata Knight Riders</td>\n",
              "      <td>0</td>\n",
              "      <td>10</td>\n",
              "      <td>CA Lynn</td>\n",
              "      <td>Saurashtra Cricket Association Stadium</td>\n",
              "      <td>Nitin Menon</td>\n",
              "      <td>CK Nandan</td>\n",
              "    </tr>\n",
              "    <tr>\n",
              "      <th>3</th>\n",
              "      <td>4</td>\n",
              "      <td>2017</td>\n",
              "      <td>Indore</td>\n",
              "      <td>2017-04-08</td>\n",
              "      <td>Rising Pune Supergiant</td>\n",
              "      <td>Kings XI Punjab</td>\n",
              "      <td>Kings XI Punjab</td>\n",
              "      <td>field</td>\n",
              "      <td>normal</td>\n",
              "      <td>0</td>\n",
              "      <td>Kings XI Punjab</td>\n",
              "      <td>0</td>\n",
              "      <td>6</td>\n",
              "      <td>GJ Maxwell</td>\n",
              "      <td>Holkar Cricket Stadium</td>\n",
              "      <td>AK Chaudhary</td>\n",
              "      <td>C Shamshuddin</td>\n",
              "    </tr>\n",
              "    <tr>\n",
              "      <th>4</th>\n",
              "      <td>5</td>\n",
              "      <td>2017</td>\n",
              "      <td>Bangalore</td>\n",
              "      <td>2017-04-08</td>\n",
              "      <td>Royal Challengers Bangalore</td>\n",
              "      <td>Delhi Daredevils</td>\n",
              "      <td>Royal Challengers Bangalore</td>\n",
              "      <td>bat</td>\n",
              "      <td>normal</td>\n",
              "      <td>0</td>\n",
              "      <td>Royal Challengers Bangalore</td>\n",
              "      <td>15</td>\n",
              "      <td>0</td>\n",
              "      <td>KM Jadhav</td>\n",
              "      <td>M Chinnaswamy Stadium</td>\n",
              "      <td>NaN</td>\n",
              "      <td>NaN</td>\n",
              "    </tr>\n",
              "  </tbody>\n",
              "</table>\n",
              "</div>"
            ],
            "text/plain": [
              "   id  season  ...         umpire1        umpire2\n",
              "0   1    2017  ...     AY Dandekar       NJ Llong\n",
              "1   2    2017  ...  A Nand Kishore         S Ravi\n",
              "2   3    2017  ...     Nitin Menon      CK Nandan\n",
              "3   4    2017  ...    AK Chaudhary  C Shamshuddin\n",
              "4   5    2017  ...             NaN            NaN\n",
              "\n",
              "[5 rows x 17 columns]"
            ]
          },
          "metadata": {
            "tags": []
          },
          "execution_count": 39
        }
      ]
    },
    {
      "cell_type": "code",
      "metadata": {
        "colab": {
          "base_uri": "https://localhost:8080/"
        },
        "id": "qDSSFvXRdcap",
        "outputId": "36828cdb-81ce-4a36-dc6b-1974961ff4c1"
      },
      "source": [
        "#Shape of the dataset\n",
        "\n",
        "data.shape\n"
      ],
      "execution_count": 8,
      "outputs": [
        {
          "output_type": "execute_result",
          "data": {
            "text/plain": [
              "(756, 18)"
            ]
          },
          "metadata": {
            "tags": []
          },
          "execution_count": 8
        }
      ]
    },
    {
      "cell_type": "code",
      "metadata": {
        "colab": {
          "base_uri": "https://localhost:8080/"
        },
        "id": "2g2XZeBSdgKx",
        "outputId": "5baa047c-e663-4d99-a180-a83f85c18537"
      },
      "source": [
        "#Information regarding the null values and the datatype of the features in the dataset\n",
        "\n",
        "data.info()"
      ],
      "execution_count": 9,
      "outputs": [
        {
          "output_type": "stream",
          "text": [
            "<class 'pandas.core.frame.DataFrame'>\n",
            "RangeIndex: 756 entries, 0 to 755\n",
            "Data columns (total 18 columns):\n",
            " #   Column           Non-Null Count  Dtype \n",
            "---  ------           --------------  ----- \n",
            " 0   id               756 non-null    int64 \n",
            " 1   season           756 non-null    int64 \n",
            " 2   city             749 non-null    object\n",
            " 3   date             756 non-null    object\n",
            " 4   team1            756 non-null    object\n",
            " 5   team2            756 non-null    object\n",
            " 6   toss_winner      756 non-null    object\n",
            " 7   toss_decision    756 non-null    object\n",
            " 8   result           756 non-null    object\n",
            " 9   dl_applied       756 non-null    int64 \n",
            " 10  winner           752 non-null    object\n",
            " 11  win_by_runs      756 non-null    int64 \n",
            " 12  win_by_wickets   756 non-null    int64 \n",
            " 13  player_of_match  752 non-null    object\n",
            " 14  venue            756 non-null    object\n",
            " 15  umpire1          754 non-null    object\n",
            " 16  umpire2          754 non-null    object\n",
            " 17  umpire3          119 non-null    object\n",
            "dtypes: int64(5), object(13)\n",
            "memory usage: 106.4+ KB\n"
          ],
          "name": "stdout"
        }
      ]
    },
    {
      "cell_type": "code",
      "metadata": {
        "colab": {
          "base_uri": "https://localhost:8080/",
          "height": 294
        },
        "id": "X2ZinEetdzJD",
        "outputId": "276faea2-bc50-482c-c06b-ff13d64be0c6"
      },
      "source": [
        "#Description of the dataset\n",
        "\n",
        "data.describe()"
      ],
      "execution_count": 38,
      "outputs": [
        {
          "output_type": "execute_result",
          "data": {
            "text/html": [
              "<div>\n",
              "<style scoped>\n",
              "    .dataframe tbody tr th:only-of-type {\n",
              "        vertical-align: middle;\n",
              "    }\n",
              "\n",
              "    .dataframe tbody tr th {\n",
              "        vertical-align: top;\n",
              "    }\n",
              "\n",
              "    .dataframe thead th {\n",
              "        text-align: right;\n",
              "    }\n",
              "</style>\n",
              "<table border=\"1\" class=\"dataframe\">\n",
              "  <thead>\n",
              "    <tr style=\"text-align: right;\">\n",
              "      <th></th>\n",
              "      <th>id</th>\n",
              "      <th>season</th>\n",
              "      <th>dl_applied</th>\n",
              "      <th>win_by_runs</th>\n",
              "      <th>win_by_wickets</th>\n",
              "    </tr>\n",
              "  </thead>\n",
              "  <tbody>\n",
              "    <tr>\n",
              "      <th>count</th>\n",
              "      <td>756.000000</td>\n",
              "      <td>756.000000</td>\n",
              "      <td>756.000000</td>\n",
              "      <td>756.000000</td>\n",
              "      <td>756.000000</td>\n",
              "    </tr>\n",
              "    <tr>\n",
              "      <th>mean</th>\n",
              "      <td>1792.178571</td>\n",
              "      <td>2013.444444</td>\n",
              "      <td>0.025132</td>\n",
              "      <td>13.283069</td>\n",
              "      <td>3.350529</td>\n",
              "    </tr>\n",
              "    <tr>\n",
              "      <th>std</th>\n",
              "      <td>3464.478148</td>\n",
              "      <td>3.366895</td>\n",
              "      <td>0.156630</td>\n",
              "      <td>23.471144</td>\n",
              "      <td>3.387963</td>\n",
              "    </tr>\n",
              "    <tr>\n",
              "      <th>min</th>\n",
              "      <td>1.000000</td>\n",
              "      <td>2008.000000</td>\n",
              "      <td>0.000000</td>\n",
              "      <td>0.000000</td>\n",
              "      <td>0.000000</td>\n",
              "    </tr>\n",
              "    <tr>\n",
              "      <th>25%</th>\n",
              "      <td>189.750000</td>\n",
              "      <td>2011.000000</td>\n",
              "      <td>0.000000</td>\n",
              "      <td>0.000000</td>\n",
              "      <td>0.000000</td>\n",
              "    </tr>\n",
              "    <tr>\n",
              "      <th>50%</th>\n",
              "      <td>378.500000</td>\n",
              "      <td>2013.000000</td>\n",
              "      <td>0.000000</td>\n",
              "      <td>0.000000</td>\n",
              "      <td>4.000000</td>\n",
              "    </tr>\n",
              "    <tr>\n",
              "      <th>75%</th>\n",
              "      <td>567.250000</td>\n",
              "      <td>2016.000000</td>\n",
              "      <td>0.000000</td>\n",
              "      <td>19.000000</td>\n",
              "      <td>6.000000</td>\n",
              "    </tr>\n",
              "    <tr>\n",
              "      <th>max</th>\n",
              "      <td>11415.000000</td>\n",
              "      <td>2019.000000</td>\n",
              "      <td>1.000000</td>\n",
              "      <td>146.000000</td>\n",
              "      <td>10.000000</td>\n",
              "    </tr>\n",
              "  </tbody>\n",
              "</table>\n",
              "</div>"
            ],
            "text/plain": [
              "                 id       season  dl_applied  win_by_runs  win_by_wickets\n",
              "count    756.000000   756.000000  756.000000   756.000000      756.000000\n",
              "mean    1792.178571  2013.444444    0.025132    13.283069        3.350529\n",
              "std     3464.478148     3.366895    0.156630    23.471144        3.387963\n",
              "min        1.000000  2008.000000    0.000000     0.000000        0.000000\n",
              "25%      189.750000  2011.000000    0.000000     0.000000        0.000000\n",
              "50%      378.500000  2013.000000    0.000000     0.000000        4.000000\n",
              "75%      567.250000  2016.000000    0.000000    19.000000        6.000000\n",
              "max    11415.000000  2019.000000    1.000000   146.000000       10.000000"
            ]
          },
          "metadata": {
            "tags": []
          },
          "execution_count": 38
        }
      ]
    },
    {
      "cell_type": "code",
      "metadata": {
        "id": "5Fpefhhd9YRI"
      },
      "source": [
        ""
      ],
      "execution_count": null,
      "outputs": []
    },
    {
      "cell_type": "markdown",
      "metadata": {
        "id": "GsM3p73L9Z3L"
      },
      "source": [
        "#CLEANING THE DATASET"
      ]
    },
    {
      "cell_type": "code",
      "metadata": {
        "colab": {
          "base_uri": "https://localhost:8080/"
        },
        "id": "iSD_pLHUeC4N",
        "outputId": "8efe6afe-b171-486a-cb95-921f9b7fdf37"
      },
      "source": [
        "#I want to get total null values of the dataset from each column\n",
        "\n",
        "data.isnull().sum()"
      ],
      "execution_count": 11,
      "outputs": [
        {
          "output_type": "execute_result",
          "data": {
            "text/plain": [
              "id                   0\n",
              "season               0\n",
              "city                 7\n",
              "date                 0\n",
              "team1                0\n",
              "team2                0\n",
              "toss_winner          0\n",
              "toss_decision        0\n",
              "result               0\n",
              "dl_applied           0\n",
              "winner               4\n",
              "win_by_runs          0\n",
              "win_by_wickets       0\n",
              "player_of_match      4\n",
              "venue                0\n",
              "umpire1              2\n",
              "umpire2              2\n",
              "umpire3            637\n",
              "dtype: int64"
            ]
          },
          "metadata": {
            "tags": []
          },
          "execution_count": 11
        }
      ]
    },
    {
      "cell_type": "code",
      "metadata": {
        "colab": {
          "base_uri": "https://localhost:8080/"
        },
        "id": "9Oc1FrW0ecBj",
        "outputId": "aba9287e-a3ac-452e-ee3c-1803d2b14105"
      },
      "source": [
        "#Drop umpire\n",
        "\n",
        "print(data)\n",
        "data.drop('umpire3', axis = 1, inplace = True)\n",
        "print(data)"
      ],
      "execution_count": 12,
      "outputs": [
        {
          "output_type": "stream",
          "text": [
            "        id  season  ...         umpire2                  umpire3\n",
            "0        1    2017  ...        NJ Llong                      NaN\n",
            "1        2    2017  ...          S Ravi                      NaN\n",
            "2        3    2017  ...       CK Nandan                      NaN\n",
            "3        4    2017  ...   C Shamshuddin                      NaN\n",
            "4        5    2017  ...             NaN                      NaN\n",
            "..     ...     ...  ...             ...                      ...\n",
            "751  11347    2019  ...        O Nandan                   S Ravi\n",
            "752  11412    2019  ...     Nitin Menon                Ian Gould\n",
            "753  11413    2019  ...             NaN                      NaN\n",
            "754  11414    2019  ...  Bruce Oxenford  Chettithody Shamshuddin\n",
            "755  11415    2019  ...       Ian Gould              Nigel Llong\n",
            "\n",
            "[756 rows x 18 columns]\n",
            "        id  season  ...         umpire1         umpire2\n",
            "0        1    2017  ...     AY Dandekar        NJ Llong\n",
            "1        2    2017  ...  A Nand Kishore          S Ravi\n",
            "2        3    2017  ...     Nitin Menon       CK Nandan\n",
            "3        4    2017  ...    AK Chaudhary   C Shamshuddin\n",
            "4        5    2017  ...             NaN             NaN\n",
            "..     ...     ...  ...             ...             ...\n",
            "751  11347    2019  ...   Nanda Kishore        O Nandan\n",
            "752  11412    2019  ...     Nigel Llong     Nitin Menon\n",
            "753  11413    2019  ...             NaN             NaN\n",
            "754  11414    2019  ...   Sundaram Ravi  Bruce Oxenford\n",
            "755  11415    2019  ...     Nitin Menon       Ian Gould\n",
            "\n",
            "[756 rows x 17 columns]\n"
          ],
          "name": "stdout"
        }
      ]
    },
    {
      "cell_type": "code",
      "metadata": {
        "colab": {
          "base_uri": "https://localhost:8080/"
        },
        "id": "Rm6hf7-whM7O",
        "outputId": "670889aa-4fd6-428b-d8f2-a2d5250b6470"
      },
      "source": [
        "data.isnull().sum()"
      ],
      "execution_count": 13,
      "outputs": [
        {
          "output_type": "execute_result",
          "data": {
            "text/plain": [
              "id                 0\n",
              "season             0\n",
              "city               7\n",
              "date               0\n",
              "team1              0\n",
              "team2              0\n",
              "toss_winner        0\n",
              "toss_decision      0\n",
              "result             0\n",
              "dl_applied         0\n",
              "winner             4\n",
              "win_by_runs        0\n",
              "win_by_wickets     0\n",
              "player_of_match    4\n",
              "venue              0\n",
              "umpire1            2\n",
              "umpire2            2\n",
              "dtype: int64"
            ]
          },
          "metadata": {
            "tags": []
          },
          "execution_count": 13
        }
      ]
    },
    {
      "cell_type": "code",
      "metadata": {
        "id": "whIcD-oDh8nQ"
      },
      "source": [
        ""
      ],
      "execution_count": 13,
      "outputs": []
    },
    {
      "cell_type": "markdown",
      "metadata": {
        "id": "f5xuO_bAiGbR"
      },
      "source": [
        "#ANALYZING THE DATA"
      ]
    },
    {
      "cell_type": "code",
      "metadata": {
        "colab": {
          "base_uri": "https://localhost:8080/",
          "height": 481
        },
        "id": "Ve9XpQqTiJVs",
        "outputId": "584bc286-db3f-405a-f918-6968b38a7f8a"
      },
      "source": [
        "#Showing the correlation between each measure value in the dataset\n",
        "data.corr()\n",
        "plt.figure(figsize = (12,8))\n",
        "sns.heatmap(data.corr(),annot = True)\n",
        "plt.show()"
      ],
      "execution_count": 37,
      "outputs": [
        {
          "output_type": "display_data",
          "data": {
            "image/png": "[encoded data removed]",
            "text/plain": [
              "<Figure size 864x576 with 2 Axes>"
            ]
          },
          "metadata": {
            "tags": [],
            "needs_background": "light"
          }
        }
      ]
    },
    {
      "cell_type": "code",
      "metadata": {
        "colab": {
          "base_uri": "https://localhost:8080/"
        },
        "id": "uvOF3QozoVyG",
        "outputId": "7bf2f686-54bb-468f-95cb-f9a8eae6b0a1"
      },
      "source": [
        "data[\"toss_decision\"].value_counts()"
      ],
      "execution_count": 15,
      "outputs": [
        {
          "output_type": "execute_result",
          "data": {
            "text/plain": [
              "field    463\n",
              "bat      293\n",
              "Name: toss_decision, dtype: int64"
            ]
          },
          "metadata": {
            "tags": []
          },
          "execution_count": 15
        }
      ]
    },
    {
      "cell_type": "code",
      "metadata": {
        "colab": {
          "base_uri": "https://localhost:8080/"
        },
        "id": "vF0h_VjVfxjK",
        "outputId": "d32a15ff-ee4f-4b36-a919-26ea733b4d3a"
      },
      "source": [
        "#Checking number of matches held in that \n",
        "\n",
        "data['season'].unique()"
      ],
      "execution_count": 16,
      "outputs": [
        {
          "output_type": "execute_result",
          "data": {
            "text/plain": [
              "array([2017, 2008, 2009, 2010, 2011, 2012, 2013, 2014, 2015, 2016, 2018,\n",
              "       2019])"
            ]
          },
          "metadata": {
            "tags": []
          },
          "execution_count": 16
        }
      ]
    },
    {
      "cell_type": "code",
      "metadata": {
        "colab": {
          "base_uri": "https://localhost:8080/"
        },
        "id": "8_w4QyT4gLGt",
        "outputId": "0b3929d9-7905-4812-cdbc-91f38a55859b"
      },
      "source": [
        "data['season'].value_counts()"
      ],
      "execution_count": 17,
      "outputs": [
        {
          "output_type": "execute_result",
          "data": {
            "text/plain": [
              "2013    76\n",
              "2012    74\n",
              "2011    73\n",
              "2019    60\n",
              "2018    60\n",
              "2016    60\n",
              "2014    60\n",
              "2010    60\n",
              "2017    59\n",
              "2015    59\n",
              "2008    58\n",
              "2009    57\n",
              "Name: season, dtype: int64"
            ]
          },
          "metadata": {
            "tags": []
          },
          "execution_count": 17
        }
      ]
    },
    {
      "cell_type": "code",
      "metadata": {
        "colab": {
          "base_uri": "https://localhost:8080/",
          "height": 349
        },
        "id": "4dhqegUGgR_B",
        "outputId": "11700cd7-e8de-4b18-9b2d-711827affe10"
      },
      "source": [
        "#Plotting the dataset into the form of a count plot\n",
        "\n",
        "sns.countplot(data['season'], edgecolor = 'black')"
      ],
      "execution_count": 36,
      "outputs": [
        {
          "output_type": "stream",
          "text": [
            "/usr/local/lib/python3.7/dist-packages/seaborn/_decorators.py:43: FutureWarning: Pass the following variable as a keyword arg: x. From version 0.12, the only valid positional argument will be `data`, and passing other arguments without an explicit keyword will result in an error or misinterpretation.\n",
            "  FutureWarning\n"
          ],
          "name": "stderr"
        },
        {
          "output_type": "execute_result",
          "data": {
            "text/plain": [
              "<matplotlib.axes._subplots.AxesSubplot at 0x7ffbb5151c90>"
            ]
          },
          "metadata": {
            "tags": []
          },
          "execution_count": 36
        },
        {
          "output_type": "display_data",
          "data": {
            "image/png": "[encoded data removed]",
            "text/plain": [
              "<Figure size 432x288 with 1 Axes>"
            ]
          },
          "metadata": {
            "tags": [],
            "needs_background": "light"
          }
        }
      ]
    },
    {
      "cell_type": "code",
      "metadata": {
        "id": "Jjt-WHfE8u_z"
      },
      "source": [
        ""
      ],
      "execution_count": null,
      "outputs": []
    },
    {
      "cell_type": "markdown",
      "metadata": {
        "id": "jPBs6HK_8xc3"
      },
      "source": [
        "#ACA-VDCA-STADIUM WITH LEAST MATCHES\n",
        "\n",
        "#EDEN GARDENS-STADIUM WITH MOST NO OF MATCHES"
      ]
    },
    {
      "cell_type": "code",
      "metadata": {
        "colab": {
          "base_uri": "https://localhost:8080/",
          "height": 460
        },
        "id": "YyEeENdJgeSo",
        "outputId": "b5fc6813-8d6a-48f0-ef0f-636047a898e7"
      },
      "source": [
        "plt.figure(figsize= (18,8))\n",
        "sns.countplot(x=data['venue'], edgecolor = 'black')\n",
        "plt.xticks(rotation = 90)\n",
        "plt.show()"
      ],
      "execution_count": 19,
      "outputs": [
        {
          "output_type": "display_data",
          "data": {
            "image/png": "[encoded data removed]",
            "text/plain": [
              "<Figure size 1296x576 with 1 Axes>"
            ]
          },
          "metadata": {
            "tags": [],
            "needs_background": "light"
          }
        }
      ]
    },
    {
      "cell_type": "code",
      "metadata": {
        "colab": {
          "base_uri": "https://localhost:8080/",
          "height": 313
        },
        "id": "FoLR8Nnuoqgi",
        "outputId": "b5ba830b-233d-44ad-e31e-6788ba1e3ca3"
      },
      "source": [
        "plt.figure(figsize= (18,8))\n",
        "sns.countplot(x=data['season'], hue = data[\"result\"], edgecolor = 'black')\n",
        "plt.xticks(rotation = 90)\n",
        "plt.show()"
      ],
      "execution_count": 20,
      "outputs": [
        {
          "output_type": "display_data",
          "data": {
            "image/png": "[encoded data removed]",
            "text/plain": [
              "<Figure size 1296x576 with 1 Axes>"
            ]
          },
          "metadata": {
            "tags": [],
            "needs_background": "light"
          }
        }
      ]
    },
    {
      "cell_type": "code",
      "metadata": {
        "colab": {
          "base_uri": "https://localhost:8080/",
          "height": 79
        },
        "id": "72aX0hOsknJu",
        "outputId": "53706ab4-b065-4e3c-cef3-582cc9c1740d"
      },
      "source": [
        "#Which team won by runs in max\n",
        "\n",
        "data[data['win_by_runs'] == 146][['season', 'city', 'team1', 'team2','win_by_runs', 'winner']]"
      ],
      "execution_count": 35,
      "outputs": [
        {
          "output_type": "execute_result",
          "data": {
            "text/html": [
              "<div>\n",
              "<style scoped>\n",
              "    .dataframe tbody tr th:only-of-type {\n",
              "        vertical-align: middle;\n",
              "    }\n",
              "\n",
              "    .dataframe tbody tr th {\n",
              "        vertical-align: top;\n",
              "    }\n",
              "\n",
              "    .dataframe thead th {\n",
              "        text-align: right;\n",
              "    }\n",
              "</style>\n",
              "<table border=\"1\" class=\"dataframe\">\n",
              "  <thead>\n",
              "    <tr style=\"text-align: right;\">\n",
              "      <th></th>\n",
              "      <th>season</th>\n",
              "      <th>city</th>\n",
              "      <th>team1</th>\n",
              "      <th>team2</th>\n",
              "      <th>win_by_runs</th>\n",
              "      <th>winner</th>\n",
              "    </tr>\n",
              "  </thead>\n",
              "  <tbody>\n",
              "    <tr>\n",
              "      <th>43</th>\n",
              "      <td>2017</td>\n",
              "      <td>Delhi</td>\n",
              "      <td>Mumbai Indians</td>\n",
              "      <td>Delhi Daredevils</td>\n",
              "      <td>146</td>\n",
              "      <td>Mumbai Indians</td>\n",
              "    </tr>\n",
              "  </tbody>\n",
              "</table>\n",
              "</div>"
            ],
            "text/plain": [
              "    season   city  ... win_by_runs          winner\n",
              "43    2017  Delhi  ...         146  Mumbai Indians\n",
              "\n",
              "[1 rows x 6 columns]"
            ]
          },
          "metadata": {
            "tags": []
          },
          "execution_count": 35
        }
      ]
    },
    {
      "cell_type": "code",
      "metadata": {
        "id": "LmNnWgL-8X3Y"
      },
      "source": [
        ""
      ],
      "execution_count": null,
      "outputs": []
    },
    {
      "cell_type": "markdown",
      "metadata": {
        "id": "vASie4PU8bpF"
      },
      "source": [
        "# MOST WINS IN IPL \n",
        "\n",
        "MUMABI\n",
        "CHENNAI\n",
        "KOLKATA"
      ]
    },
    {
      "cell_type": "code",
      "metadata": {
        "colab": {
          "base_uri": "https://localhost:8080/"
        },
        "id": "xvQiZKyulBoO",
        "outputId": "49bd03cc-f828-41ed-d8a1-329cea81b548"
      },
      "source": [
        "#Count of each team winning matches count\n",
        "\n",
        "data['winner'].value_counts()"
      ],
      "execution_count": 22,
      "outputs": [
        {
          "output_type": "execute_result",
          "data": {
            "text/plain": [
              "Mumbai Indians                 109\n",
              "Chennai Super Kings            100\n",
              "Kolkata Knight Riders           92\n",
              "Royal Challengers Bangalore     84\n",
              "Kings XI Punjab                 82\n",
              "Rajasthan Royals                75\n",
              "Delhi Daredevils                67\n",
              "Sunrisers Hyderabad             58\n",
              "Deccan Chargers                 29\n",
              "Gujarat Lions                   13\n",
              "Pune Warriors                   12\n",
              "Delhi Capitals                  10\n",
              "Rising Pune Supergiant          10\n",
              "Kochi Tuskers Kerala             6\n",
              "Rising Pune Supergiants          5\n",
              "Name: winner, dtype: int64"
            ]
          },
          "metadata": {
            "tags": []
          },
          "execution_count": 22
        }
      ]
    },
    {
      "cell_type": "code",
      "metadata": {
        "colab": {
          "base_uri": "https://localhost:8080/",
          "height": 273
        },
        "id": "YohE5SQFpVBk",
        "outputId": "122aa280-96b6-4536-aa40-3abf0a47e00e"
      },
      "source": [
        "plt.figure(figsize= (18,8))\n",
        "sns.countplot(y= data['winner'], edgecolor = 'black')\n",
        "plt.show()"
      ],
      "execution_count": 23,
      "outputs": [
        {
          "output_type": "display_data",
          "data": {
            "image/png": "[encoded data removed]",
            "text/plain": [
              "<Figure size 1296x576 with 1 Axes>"
            ]
          },
          "metadata": {
            "tags": [],
            "needs_background": "light"
          }
        }
      ]
    },
    {
      "cell_type": "code",
      "metadata": {
        "colab": {
          "base_uri": "https://localhost:8080/"
        },
        "id": "EZ9Tenn2lpEt",
        "outputId": "9fe045f8-07f6-4350-e560-18ecec44afb8"
      },
      "source": [
        "data['toss_winner'].value_counts()"
      ],
      "execution_count": 24,
      "outputs": [
        {
          "output_type": "execute_result",
          "data": {
            "text/plain": [
              "Mumbai Indians                 98\n",
              "Kolkata Knight Riders          92\n",
              "Chennai Super Kings            89\n",
              "Royal Challengers Bangalore    81\n",
              "Kings XI Punjab                81\n",
              "Rajasthan Royals               80\n",
              "Delhi Daredevils               80\n",
              "Sunrisers Hyderabad            46\n",
              "Deccan Chargers                43\n",
              "Pune Warriors                  20\n",
              "Gujarat Lions                  15\n",
              "Delhi Capitals                 10\n",
              "Kochi Tuskers Kerala            8\n",
              "Rising Pune Supergiants         7\n",
              "Rising Pune Supergiant          6\n",
              "Name: toss_winner, dtype: int64"
            ]
          },
          "metadata": {
            "tags": []
          },
          "execution_count": 24
        }
      ]
    },
    {
      "cell_type": "code",
      "metadata": {
        "id": "IhduVL59mrTA",
        "colab": {
          "base_uri": "https://localhost:8080/",
          "height": 373
        },
        "outputId": "8b381f40-6e30-4d6b-a0a8-0d476d7e7d94"
      },
      "source": [
        "plt.figure(figsize= (12,8))\n",
        "sns.countplot(y = data['toss_winner'], edgecolor = 'black')\n",
        "plt.show()"
      ],
      "execution_count": 25,
      "outputs": [
        {
          "output_type": "display_data",
          "data": {
            "image/png": "[encoded data removed]",
            "text/plain": [
              "<Figure size 864x576 with 1 Axes>"
            ]
          },
          "metadata": {
            "tags": [],
            "needs_background": "light"
          }
        }
      ]
    },
    {
      "cell_type": "code",
      "metadata": {
        "colab": {
          "base_uri": "https://localhost:8080/",
          "height": 339
        },
        "id": "MgYtBm8ip6z_",
        "outputId": "0ab84fc7-7b5d-4834-bfab-e60e4135ad27"
      },
      "source": [
        "plt.figure(figsize= (16,8))\n",
        "sns.countplot(x = 'season', hue = 'toss_decision', data = data)\n",
        "plt.show()"
      ],
      "execution_count": 26,
      "outputs": [
        {
          "output_type": "display_data",
          "data": {
            "image/png": "[encoded data removed]",
            "text/plain": [
              "<Figure size 1152x576 with 1 Axes>"
            ]
          },
          "metadata": {
            "tags": [],
            "needs_background": "light"
          }
        }
      ]
    },
    {
      "cell_type": "markdown",
      "metadata": {
        "id": "mq4W8eUS55bk"
      },
      "source": [
        "#Number of times a team has won the match after winning the toss"
      ]
    },
    {
      "cell_type": "code",
      "metadata": {
        "colab": {
          "base_uri": "https://localhost:8080/"
        },
        "id": "YI29tSCO54FK",
        "outputId": "ac913ba7-5f4a-4f15-f43a-380b6bfc63a0"
      },
      "source": [
        "np.sum(data['toss_winner']==data['winner'])"
      ],
      "execution_count": 27,
      "outputs": [
        {
          "output_type": "execute_result",
          "data": {
            "text/plain": [
              "393"
            ]
          },
          "metadata": {
            "tags": []
          },
          "execution_count": 27
        }
      ]
    },
    {
      "cell_type": "code",
      "metadata": {
        "colab": {
          "base_uri": "https://localhost:8080/",
          "height": 786
        },
        "id": "L23Cd6x66DjU",
        "outputId": "11b2918c-320f-4e25-db76-8e798ebbe204"
      },
      "source": [
        "#Teams Elected to Bat First\n",
        "bat_first=data[data['win_by_runs']!=0]\n",
        "bat_first"
      ],
      "execution_count": 28,
      "outputs": [
        {
          "output_type": "execute_result",
          "data": {
            "text/html": [
              "<div>\n",
              "<style scoped>\n",
              "    .dataframe tbody tr th:only-of-type {\n",
              "        vertical-align: middle;\n",
              "    }\n",
              "\n",
              "    .dataframe tbody tr th {\n",
              "        vertical-align: top;\n",
              "    }\n",
              "\n",
              "    .dataframe thead th {\n",
              "        text-align: right;\n",
              "    }\n",
              "</style>\n",
              "<table border=\"1\" class=\"dataframe\">\n",
              "  <thead>\n",
              "    <tr style=\"text-align: right;\">\n",
              "      <th></th>\n",
              "      <th>id</th>\n",
              "      <th>season</th>\n",
              "      <th>city</th>\n",
              "      <th>date</th>\n",
              "      <th>team1</th>\n",
              "      <th>team2</th>\n",
              "      <th>toss_winner</th>\n",
              "      <th>toss_decision</th>\n",
              "      <th>result</th>\n",
              "      <th>dl_applied</th>\n",
              "      <th>winner</th>\n",
              "      <th>win_by_runs</th>\n",
              "      <th>win_by_wickets</th>\n",
              "      <th>player_of_match</th>\n",
              "      <th>venue</th>\n",
              "      <th>umpire1</th>\n",
              "      <th>umpire2</th>\n",
              "    </tr>\n",
              "  </thead>\n",
              "  <tbody>\n",
              "    <tr>\n",
              "      <th>0</th>\n",
              "      <td>1</td>\n",
              "      <td>2017</td>\n",
              "      <td>Hyderabad</td>\n",
              "      <td>2017-04-05</td>\n",
              "      <td>Sunrisers Hyderabad</td>\n",
              "      <td>Royal Challengers Bangalore</td>\n",
              "      <td>Royal Challengers Bangalore</td>\n",
              "      <td>field</td>\n",
              "      <td>normal</td>\n",
              "      <td>0</td>\n",
              "      <td>Sunrisers Hyderabad</td>\n",
              "      <td>35</td>\n",
              "      <td>0</td>\n",
              "      <td>Yuvraj Singh</td>\n",
              "      <td>Rajiv Gandhi International Stadium, Uppal</td>\n",
              "      <td>AY Dandekar</td>\n",
              "      <td>NJ Llong</td>\n",
              "    </tr>\n",
              "    <tr>\n",
              "      <th>4</th>\n",
              "      <td>5</td>\n",
              "      <td>2017</td>\n",
              "      <td>Bangalore</td>\n",
              "      <td>2017-04-08</td>\n",
              "      <td>Royal Challengers Bangalore</td>\n",
              "      <td>Delhi Daredevils</td>\n",
              "      <td>Royal Challengers Bangalore</td>\n",
              "      <td>bat</td>\n",
              "      <td>normal</td>\n",
              "      <td>0</td>\n",
              "      <td>Royal Challengers Bangalore</td>\n",
              "      <td>15</td>\n",
              "      <td>0</td>\n",
              "      <td>KM Jadhav</td>\n",
              "      <td>M Chinnaswamy Stadium</td>\n",
              "      <td>NaN</td>\n",
              "      <td>NaN</td>\n",
              "    </tr>\n",
              "    <tr>\n",
              "      <th>8</th>\n",
              "      <td>9</td>\n",
              "      <td>2017</td>\n",
              "      <td>Pune</td>\n",
              "      <td>2017-04-11</td>\n",
              "      <td>Delhi Daredevils</td>\n",
              "      <td>Rising Pune Supergiant</td>\n",
              "      <td>Rising Pune Supergiant</td>\n",
              "      <td>field</td>\n",
              "      <td>normal</td>\n",
              "      <td>0</td>\n",
              "      <td>Delhi Daredevils</td>\n",
              "      <td>97</td>\n",
              "      <td>0</td>\n",
              "      <td>SV Samson</td>\n",
              "      <td>Maharashtra Cricket Association Stadium</td>\n",
              "      <td>AY Dandekar</td>\n",
              "      <td>S Ravi</td>\n",
              "    </tr>\n",
              "    <tr>\n",
              "      <th>13</th>\n",
              "      <td>14</td>\n",
              "      <td>2017</td>\n",
              "      <td>Kolkata</td>\n",
              "      <td>2017-04-15</td>\n",
              "      <td>Kolkata Knight Riders</td>\n",
              "      <td>Sunrisers Hyderabad</td>\n",
              "      <td>Sunrisers Hyderabad</td>\n",
              "      <td>field</td>\n",
              "      <td>normal</td>\n",
              "      <td>0</td>\n",
              "      <td>Kolkata Knight Riders</td>\n",
              "      <td>17</td>\n",
              "      <td>0</td>\n",
              "      <td>RV Uthappa</td>\n",
              "      <td>Eden Gardens</td>\n",
              "      <td>AY Dandekar</td>\n",
              "      <td>NJ Llong</td>\n",
              "    </tr>\n",
              "    <tr>\n",
              "      <th>14</th>\n",
              "      <td>15</td>\n",
              "      <td>2017</td>\n",
              "      <td>Delhi</td>\n",
              "      <td>2017-04-15</td>\n",
              "      <td>Delhi Daredevils</td>\n",
              "      <td>Kings XI Punjab</td>\n",
              "      <td>Delhi Daredevils</td>\n",
              "      <td>bat</td>\n",
              "      <td>normal</td>\n",
              "      <td>0</td>\n",
              "      <td>Delhi Daredevils</td>\n",
              "      <td>51</td>\n",
              "      <td>0</td>\n",
              "      <td>CJ Anderson</td>\n",
              "      <td>Feroz Shah Kotla</td>\n",
              "      <td>YC Barde</td>\n",
              "      <td>Nitin Menon</td>\n",
              "    </tr>\n",
              "    <tr>\n",
              "      <th>...</th>\n",
              "      <td>...</td>\n",
              "      <td>...</td>\n",
              "      <td>...</td>\n",
              "      <td>...</td>\n",
              "      <td>...</td>\n",
              "      <td>...</td>\n",
              "      <td>...</td>\n",
              "      <td>...</td>\n",
              "      <td>...</td>\n",
              "      <td>...</td>\n",
              "      <td>...</td>\n",
              "      <td>...</td>\n",
              "      <td>...</td>\n",
              "      <td>...</td>\n",
              "      <td>...</td>\n",
              "      <td>...</td>\n",
              "      <td>...</td>\n",
              "    </tr>\n",
              "    <tr>\n",
              "      <th>741</th>\n",
              "      <td>11337</td>\n",
              "      <td>2019</td>\n",
              "      <td>Delhi</td>\n",
              "      <td>28/04/19</td>\n",
              "      <td>Delhi Capitals</td>\n",
              "      <td>Royal Challengers Bangalore</td>\n",
              "      <td>Delhi Capitals</td>\n",
              "      <td>bat</td>\n",
              "      <td>normal</td>\n",
              "      <td>0</td>\n",
              "      <td>Delhi Capitals</td>\n",
              "      <td>16</td>\n",
              "      <td>0</td>\n",
              "      <td>S Dhawan</td>\n",
              "      <td>Feroz Shah Kotla Ground</td>\n",
              "      <td>Bruce Oxenford</td>\n",
              "      <td>KN Ananthapadmanabhan</td>\n",
              "    </tr>\n",
              "    <tr>\n",
              "      <th>742</th>\n",
              "      <td>11338</td>\n",
              "      <td>2019</td>\n",
              "      <td>Kolkata</td>\n",
              "      <td>28/04/19</td>\n",
              "      <td>Kolkata Knight Riders</td>\n",
              "      <td>Mumbai Indians</td>\n",
              "      <td>Mumbai Indians</td>\n",
              "      <td>field</td>\n",
              "      <td>normal</td>\n",
              "      <td>0</td>\n",
              "      <td>Kolkata Knight Riders</td>\n",
              "      <td>34</td>\n",
              "      <td>0</td>\n",
              "      <td>AD Russell</td>\n",
              "      <td>Eden Gardens</td>\n",
              "      <td>Ian Gould</td>\n",
              "      <td>Nitin Menon</td>\n",
              "    </tr>\n",
              "    <tr>\n",
              "      <th>743</th>\n",
              "      <td>11339</td>\n",
              "      <td>2019</td>\n",
              "      <td>Hyderabad</td>\n",
              "      <td>29/04/19</td>\n",
              "      <td>Sunrisers Hyderabad</td>\n",
              "      <td>Kings XI Punjab</td>\n",
              "      <td>Kings XI Punjab</td>\n",
              "      <td>field</td>\n",
              "      <td>normal</td>\n",
              "      <td>0</td>\n",
              "      <td>Sunrisers Hyderabad</td>\n",
              "      <td>45</td>\n",
              "      <td>0</td>\n",
              "      <td>DA Warner</td>\n",
              "      <td>Rajiv Gandhi Intl. Cricket Stadium</td>\n",
              "      <td>S Ravi</td>\n",
              "      <td>O Nandan</td>\n",
              "    </tr>\n",
              "    <tr>\n",
              "      <th>745</th>\n",
              "      <td>11341</td>\n",
              "      <td>2019</td>\n",
              "      <td>Chennai</td>\n",
              "      <td>01/05/19</td>\n",
              "      <td>Chennai Super Kings</td>\n",
              "      <td>Delhi Capitals</td>\n",
              "      <td>Delhi Capitals</td>\n",
              "      <td>field</td>\n",
              "      <td>normal</td>\n",
              "      <td>0</td>\n",
              "      <td>Chennai Super Kings</td>\n",
              "      <td>80</td>\n",
              "      <td>0</td>\n",
              "      <td>MS Dhoni</td>\n",
              "      <td>M. A. Chidambaram Stadium</td>\n",
              "      <td>Anil Dandekar</td>\n",
              "      <td>Nitin Menon</td>\n",
              "    </tr>\n",
              "    <tr>\n",
              "      <th>755</th>\n",
              "      <td>11415</td>\n",
              "      <td>2019</td>\n",
              "      <td>Hyderabad</td>\n",
              "      <td>12/05/19</td>\n",
              "      <td>Mumbai Indians</td>\n",
              "      <td>Chennai Super Kings</td>\n",
              "      <td>Mumbai Indians</td>\n",
              "      <td>bat</td>\n",
              "      <td>normal</td>\n",
              "      <td>0</td>\n",
              "      <td>Mumbai Indians</td>\n",
              "      <td>1</td>\n",
              "      <td>0</td>\n",
              "      <td>JJ Bumrah</td>\n",
              "      <td>Rajiv Gandhi Intl. Cricket Stadium</td>\n",
              "      <td>Nitin Menon</td>\n",
              "      <td>Ian Gould</td>\n",
              "    </tr>\n",
              "  </tbody>\n",
              "</table>\n",
              "<p>337 rows × 17 columns</p>\n",
              "</div>"
            ],
            "text/plain": [
              "        id  season  ...         umpire1                umpire2\n",
              "0        1    2017  ...     AY Dandekar               NJ Llong\n",
              "4        5    2017  ...             NaN                    NaN\n",
              "8        9    2017  ...     AY Dandekar                 S Ravi\n",
              "13      14    2017  ...     AY Dandekar               NJ Llong\n",
              "14      15    2017  ...        YC Barde            Nitin Menon\n",
              "..     ...     ...  ...             ...                    ...\n",
              "741  11337    2019  ...  Bruce Oxenford  KN Ananthapadmanabhan\n",
              "742  11338    2019  ...       Ian Gould            Nitin Menon\n",
              "743  11339    2019  ...          S Ravi               O Nandan\n",
              "745  11341    2019  ...   Anil Dandekar            Nitin Menon\n",
              "755  11415    2019  ...     Nitin Menon              Ian Gould\n",
              "\n",
              "[337 rows x 17 columns]"
            ]
          },
          "metadata": {
            "tags": []
          },
          "execution_count": 28
        }
      ]
    },
    {
      "cell_type": "code",
      "metadata": {
        "colab": {
          "base_uri": "https://localhost:8080/"
        },
        "id": "TMis_oRi6Yve",
        "outputId": "d3f183d7-21e2-4f67-996d-7c5f4ca42776"
      },
      "source": [
        "#Team that wins the most batting first\n",
        "bat_first['winner'].value_counts()"
      ],
      "execution_count": 29,
      "outputs": [
        {
          "output_type": "execute_result",
          "data": {
            "text/plain": [
              "Mumbai Indians                 57\n",
              "Chennai Super Kings            52\n",
              "Kings XI Punjab                38\n",
              "Kolkata Knight Riders          36\n",
              "Royal Challengers Bangalore    35\n",
              "Sunrisers Hyderabad            30\n",
              "Rajasthan Royals               27\n",
              "Delhi Daredevils               25\n",
              "Deccan Chargers                18\n",
              "Pune Warriors                   6\n",
              "Rising Pune Supergiant          5\n",
              "Delhi Capitals                  3\n",
              "Rising Pune Supergiants         2\n",
              "Kochi Tuskers Kerala            2\n",
              "Gujarat Lions                   1\n",
              "Name: winner, dtype: int64"
            ]
          },
          "metadata": {
            "tags": []
          },
          "execution_count": 29
        }
      ]
    },
    {
      "cell_type": "code",
      "metadata": {
        "colab": {
          "base_uri": "https://localhost:8080/",
          "height": 561
        },
        "id": "FJpEsAAK6fcs",
        "outputId": "e61b86a6-57d7-4da5-da26-d12527acfbdc"
      },
      "source": [
        "bf=bat_first['winner'].value_counts()\n",
        "plt.figure(figsize=(12,8))\n",
        "plt.xticks(rotation=90)\n",
        "sns.barplot(x=bf.index,y=bf,data=data)\n"
      ],
      "execution_count": 30,
      "outputs": [
        {
          "output_type": "execute_result",
          "data": {
            "text/plain": [
              "<matplotlib.axes._subplots.AxesSubplot at 0x7ffbb8391890>"
            ]
          },
          "metadata": {
            "tags": []
          },
          "execution_count": 30
        },
        {
          "output_type": "display_data",
          "data": {
            "image/png": "[encoded data removed]",
            "text/plain": [
              "<Figure size 864x576 with 1 Axes>"
            ]
          },
          "metadata": {
            "tags": [],
            "needs_background": "light"
          }
        }
      ]
    },
    {
      "cell_type": "code",
      "metadata": {
        "colab": {
          "base_uri": "https://localhost:8080/",
          "height": 803
        },
        "id": "cEhJsmrp6i0m",
        "outputId": "e6e12d81-5a99-47bd-853b-c1aae8b979ca"
      },
      "source": [
        "bat_sec=data[data['win_by_wickets']!=0]\n",
        "bat_sec"
      ],
      "execution_count": 31,
      "outputs": [
        {
          "output_type": "execute_result",
          "data": {
            "text/html": [
              "<div>\n",
              "<style scoped>\n",
              "    .dataframe tbody tr th:only-of-type {\n",
              "        vertical-align: middle;\n",
              "    }\n",
              "\n",
              "    .dataframe tbody tr th {\n",
              "        vertical-align: top;\n",
              "    }\n",
              "\n",
              "    .dataframe thead th {\n",
              "        text-align: right;\n",
              "    }\n",
              "</style>\n",
              "<table border=\"1\" class=\"dataframe\">\n",
              "  <thead>\n",
              "    <tr style=\"text-align: right;\">\n",
              "      <th></th>\n",
              "      <th>id</th>\n",
              "      <th>season</th>\n",
              "      <th>city</th>\n",
              "      <th>date</th>\n",
              "      <th>team1</th>\n",
              "      <th>team2</th>\n",
              "      <th>toss_winner</th>\n",
              "      <th>toss_decision</th>\n",
              "      <th>result</th>\n",
              "      <th>dl_applied</th>\n",
              "      <th>winner</th>\n",
              "      <th>win_by_runs</th>\n",
              "      <th>win_by_wickets</th>\n",
              "      <th>player_of_match</th>\n",
              "      <th>venue</th>\n",
              "      <th>umpire1</th>\n",
              "      <th>umpire2</th>\n",
              "    </tr>\n",
              "  </thead>\n",
              "  <tbody>\n",
              "    <tr>\n",
              "      <th>1</th>\n",
              "      <td>2</td>\n",
              "      <td>2017</td>\n",
              "      <td>Pune</td>\n",
              "      <td>2017-04-06</td>\n",
              "      <td>Mumbai Indians</td>\n",
              "      <td>Rising Pune Supergiant</td>\n",
              "      <td>Rising Pune Supergiant</td>\n",
              "      <td>field</td>\n",
              "      <td>normal</td>\n",
              "      <td>0</td>\n",
              "      <td>Rising Pune Supergiant</td>\n",
              "      <td>0</td>\n",
              "      <td>7</td>\n",
              "      <td>SPD Smith</td>\n",
              "      <td>Maharashtra Cricket Association Stadium</td>\n",
              "      <td>A Nand Kishore</td>\n",
              "      <td>S Ravi</td>\n",
              "    </tr>\n",
              "    <tr>\n",
              "      <th>2</th>\n",
              "      <td>3</td>\n",
              "      <td>2017</td>\n",
              "      <td>Rajkot</td>\n",
              "      <td>2017-04-07</td>\n",
              "      <td>Gujarat Lions</td>\n",
              "      <td>Kolkata Knight Riders</td>\n",
              "      <td>Kolkata Knight Riders</td>\n",
              "      <td>field</td>\n",
              "      <td>normal</td>\n",
              "      <td>0</td>\n",
              "      <td>Kolkata Knight Riders</td>\n",
              "      <td>0</td>\n",
              "      <td>10</td>\n",
              "      <td>CA Lynn</td>\n",
              "      <td>Saurashtra Cricket Association Stadium</td>\n",
              "      <td>Nitin Menon</td>\n",
              "      <td>CK Nandan</td>\n",
              "    </tr>\n",
              "    <tr>\n",
              "      <th>3</th>\n",
              "      <td>4</td>\n",
              "      <td>2017</td>\n",
              "      <td>Indore</td>\n",
              "      <td>2017-04-08</td>\n",
              "      <td>Rising Pune Supergiant</td>\n",
              "      <td>Kings XI Punjab</td>\n",
              "      <td>Kings XI Punjab</td>\n",
              "      <td>field</td>\n",
              "      <td>normal</td>\n",
              "      <td>0</td>\n",
              "      <td>Kings XI Punjab</td>\n",
              "      <td>0</td>\n",
              "      <td>6</td>\n",
              "      <td>GJ Maxwell</td>\n",
              "      <td>Holkar Cricket Stadium</td>\n",
              "      <td>AK Chaudhary</td>\n",
              "      <td>C Shamshuddin</td>\n",
              "    </tr>\n",
              "    <tr>\n",
              "      <th>5</th>\n",
              "      <td>6</td>\n",
              "      <td>2017</td>\n",
              "      <td>Hyderabad</td>\n",
              "      <td>2017-04-09</td>\n",
              "      <td>Gujarat Lions</td>\n",
              "      <td>Sunrisers Hyderabad</td>\n",
              "      <td>Sunrisers Hyderabad</td>\n",
              "      <td>field</td>\n",
              "      <td>normal</td>\n",
              "      <td>0</td>\n",
              "      <td>Sunrisers Hyderabad</td>\n",
              "      <td>0</td>\n",
              "      <td>9</td>\n",
              "      <td>Rashid Khan</td>\n",
              "      <td>Rajiv Gandhi International Stadium, Uppal</td>\n",
              "      <td>A Deshmukh</td>\n",
              "      <td>NJ Llong</td>\n",
              "    </tr>\n",
              "    <tr>\n",
              "      <th>6</th>\n",
              "      <td>7</td>\n",
              "      <td>2017</td>\n",
              "      <td>Mumbai</td>\n",
              "      <td>2017-04-09</td>\n",
              "      <td>Kolkata Knight Riders</td>\n",
              "      <td>Mumbai Indians</td>\n",
              "      <td>Mumbai Indians</td>\n",
              "      <td>field</td>\n",
              "      <td>normal</td>\n",
              "      <td>0</td>\n",
              "      <td>Mumbai Indians</td>\n",
              "      <td>0</td>\n",
              "      <td>4</td>\n",
              "      <td>N Rana</td>\n",
              "      <td>Wankhede Stadium</td>\n",
              "      <td>Nitin Menon</td>\n",
              "      <td>CK Nandan</td>\n",
              "    </tr>\n",
              "    <tr>\n",
              "      <th>...</th>\n",
              "      <td>...</td>\n",
              "      <td>...</td>\n",
              "      <td>...</td>\n",
              "      <td>...</td>\n",
              "      <td>...</td>\n",
              "      <td>...</td>\n",
              "      <td>...</td>\n",
              "      <td>...</td>\n",
              "      <td>...</td>\n",
              "      <td>...</td>\n",
              "      <td>...</td>\n",
              "      <td>...</td>\n",
              "      <td>...</td>\n",
              "      <td>...</td>\n",
              "      <td>...</td>\n",
              "      <td>...</td>\n",
              "      <td>...</td>\n",
              "    </tr>\n",
              "    <tr>\n",
              "      <th>750</th>\n",
              "      <td>11346</td>\n",
              "      <td>2019</td>\n",
              "      <td>Mohali</td>\n",
              "      <td>05/05/19</td>\n",
              "      <td>Chennai Super Kings</td>\n",
              "      <td>Kings XI Punjab</td>\n",
              "      <td>Kings XI Punjab</td>\n",
              "      <td>field</td>\n",
              "      <td>normal</td>\n",
              "      <td>0</td>\n",
              "      <td>Kings XI Punjab</td>\n",
              "      <td>0</td>\n",
              "      <td>6</td>\n",
              "      <td>KL Rahul</td>\n",
              "      <td>IS Bindra Stadium</td>\n",
              "      <td>KN Ananthapadmanabhan</td>\n",
              "      <td>C Shamshuddin</td>\n",
              "    </tr>\n",
              "    <tr>\n",
              "      <th>751</th>\n",
              "      <td>11347</td>\n",
              "      <td>2019</td>\n",
              "      <td>Mumbai</td>\n",
              "      <td>05/05/19</td>\n",
              "      <td>Kolkata Knight Riders</td>\n",
              "      <td>Mumbai Indians</td>\n",
              "      <td>Mumbai Indians</td>\n",
              "      <td>field</td>\n",
              "      <td>normal</td>\n",
              "      <td>0</td>\n",
              "      <td>Mumbai Indians</td>\n",
              "      <td>0</td>\n",
              "      <td>9</td>\n",
              "      <td>HH Pandya</td>\n",
              "      <td>Wankhede Stadium</td>\n",
              "      <td>Nanda Kishore</td>\n",
              "      <td>O Nandan</td>\n",
              "    </tr>\n",
              "    <tr>\n",
              "      <th>752</th>\n",
              "      <td>11412</td>\n",
              "      <td>2019</td>\n",
              "      <td>Chennai</td>\n",
              "      <td>07/05/19</td>\n",
              "      <td>Chennai Super Kings</td>\n",
              "      <td>Mumbai Indians</td>\n",
              "      <td>Chennai Super Kings</td>\n",
              "      <td>bat</td>\n",
              "      <td>normal</td>\n",
              "      <td>0</td>\n",
              "      <td>Mumbai Indians</td>\n",
              "      <td>0</td>\n",
              "      <td>6</td>\n",
              "      <td>AS Yadav</td>\n",
              "      <td>M. A. Chidambaram Stadium</td>\n",
              "      <td>Nigel Llong</td>\n",
              "      <td>Nitin Menon</td>\n",
              "    </tr>\n",
              "    <tr>\n",
              "      <th>753</th>\n",
              "      <td>11413</td>\n",
              "      <td>2019</td>\n",
              "      <td>Visakhapatnam</td>\n",
              "      <td>08/05/19</td>\n",
              "      <td>Sunrisers Hyderabad</td>\n",
              "      <td>Delhi Capitals</td>\n",
              "      <td>Delhi Capitals</td>\n",
              "      <td>field</td>\n",
              "      <td>normal</td>\n",
              "      <td>0</td>\n",
              "      <td>Delhi Capitals</td>\n",
              "      <td>0</td>\n",
              "      <td>2</td>\n",
              "      <td>RR Pant</td>\n",
              "      <td>ACA-VDCA Stadium</td>\n",
              "      <td>NaN</td>\n",
              "      <td>NaN</td>\n",
              "    </tr>\n",
              "    <tr>\n",
              "      <th>754</th>\n",
              "      <td>11414</td>\n",
              "      <td>2019</td>\n",
              "      <td>Visakhapatnam</td>\n",
              "      <td>10/05/19</td>\n",
              "      <td>Delhi Capitals</td>\n",
              "      <td>Chennai Super Kings</td>\n",
              "      <td>Chennai Super Kings</td>\n",
              "      <td>field</td>\n",
              "      <td>normal</td>\n",
              "      <td>0</td>\n",
              "      <td>Chennai Super Kings</td>\n",
              "      <td>0</td>\n",
              "      <td>6</td>\n",
              "      <td>F du Plessis</td>\n",
              "      <td>ACA-VDCA Stadium</td>\n",
              "      <td>Sundaram Ravi</td>\n",
              "      <td>Bruce Oxenford</td>\n",
              "    </tr>\n",
              "  </tbody>\n",
              "</table>\n",
              "<p>406 rows × 17 columns</p>\n",
              "</div>"
            ],
            "text/plain": [
              "        id  season  ...                umpire1         umpire2\n",
              "1        2    2017  ...         A Nand Kishore          S Ravi\n",
              "2        3    2017  ...            Nitin Menon       CK Nandan\n",
              "3        4    2017  ...           AK Chaudhary   C Shamshuddin\n",
              "5        6    2017  ...             A Deshmukh        NJ Llong\n",
              "6        7    2017  ...            Nitin Menon       CK Nandan\n",
              "..     ...     ...  ...                    ...             ...\n",
              "750  11346    2019  ...  KN Ananthapadmanabhan   C Shamshuddin\n",
              "751  11347    2019  ...          Nanda Kishore        O Nandan\n",
              "752  11412    2019  ...            Nigel Llong     Nitin Menon\n",
              "753  11413    2019  ...                    NaN             NaN\n",
              "754  11414    2019  ...          Sundaram Ravi  Bruce Oxenford\n",
              "\n",
              "[406 rows x 17 columns]"
            ]
          },
          "metadata": {
            "tags": []
          },
          "execution_count": 31
        }
      ]
    },
    {
      "cell_type": "code",
      "metadata": {
        "colab": {
          "base_uri": "https://localhost:8080/"
        },
        "id": "pB61oemK6thu",
        "outputId": "9182df91-75da-4b96-920c-6cdc5f0ce9f4"
      },
      "source": [
        "# Teams winning Batting Second\n",
        "bat_sec['winner'].value_counts()"
      ],
      "execution_count": 32,
      "outputs": [
        {
          "output_type": "execute_result",
          "data": {
            "text/plain": [
              "Kolkata Knight Riders          56\n",
              "Mumbai Indians                 50\n",
              "Chennai Super Kings            48\n",
              "Royal Challengers Bangalore    48\n",
              "Rajasthan Royals               46\n",
              "Delhi Daredevils               42\n",
              "Kings XI Punjab                42\n",
              "Sunrisers Hyderabad            27\n",
              "Gujarat Lions                  12\n",
              "Deccan Chargers                11\n",
              "Delhi Capitals                  6\n",
              "Pune Warriors                   6\n",
              "Rising Pune Supergiant          5\n",
              "Kochi Tuskers Kerala            4\n",
              "Rising Pune Supergiants         3\n",
              "Name: winner, dtype: int64"
            ]
          },
          "metadata": {
            "tags": []
          },
          "execution_count": 32
        }
      ]
    },
    {
      "cell_type": "code",
      "metadata": {
        "colab": {
          "base_uri": "https://localhost:8080/",
          "height": 561
        },
        "id": "3yEEySPb60wD",
        "outputId": "783573f4-c4fb-4bba-b97a-d5e794516ba4"
      },
      "source": [
        "bs=bat_sec['winner'].value_counts()\n",
        "plt.figure(figsize=(12,8))\n",
        "plt.xticks(rotation=90)\n",
        "sns.barplot(x=bs.index,y=bs,data=data)"
      ],
      "execution_count": 33,
      "outputs": [
        {
          "output_type": "execute_result",
          "data": {
            "text/plain": [
              "<matplotlib.axes._subplots.AxesSubplot at 0x7ffbb6acaf50>"
            ]
          },
          "metadata": {
            "tags": []
          },
          "execution_count": 33
        },
        {
          "output_type": "display_data",
          "data": {
            "image/png": "[encoded data removed]",
            "text/plain": [
              "<Figure size 864x576 with 1 Axes>"
            ]
          },
          "metadata": {
            "tags": [],
            "needs_background": "light"
          }
        }
      ]
    },
    {
      "cell_type": "code",
      "metadata": {
        "id": "dw6VQ1gv62m4"
      },
      "source": [
        ""
      ],
      "execution_count": null,
      "outputs": []
    },
    {
      "cell_type": "markdown",
      "metadata": {
        "id": "g8bIgpKI670v"
      },
      "source": [
        "**MAN OF THE MATCH **"
      ]
    },
    {
      "cell_type": "code",
      "metadata": {
        "colab": {
          "base_uri": "https://localhost:8080/",
          "height": 262
        },
        "id": "LCro8Qnn6-_6",
        "outputId": "95a60d9b-8377-45f0-a607-1f4804a61de4"
      },
      "source": [
        "\n",
        "mom=data['player_of_match'].value_counts()[:20]\n",
        "plt.figure(figsize=(22,8))\n",
        "sns.barplot(data=data,y=mom,x=mom.index)"
      ],
      "execution_count": 54,
      "outputs": [
        {
          "output_type": "execute_result",
          "data": {
            "text/plain": [
              "<matplotlib.axes._subplots.AxesSubplot at 0x7ffbb84c2710>"
            ]
          },
          "metadata": {
            "tags": []
          },
          "execution_count": 54
        },
        {
          "output_type": "display_data",
          "data": {
            "image/png": "[encoded data removed]",
            "text/plain": [
              "<Figure size 1584x576 with 1 Axes>"
            ]
          },
          "metadata": {
            "tags": [],
            "needs_background": "light"
          }
        }
      ]
    },
    {
      "cell_type": "code",
      "metadata": {
        "id": "LOLOuJV17A4b"
      },
      "source": [
        ""
      ],
      "execution_count": null,
      "outputs": []
    },
    {
      "cell_type": "markdown",
      "metadata": {
        "id": "Y5jnEcZB7XFe"
      },
      "source": [
        "# Now we can import the second dataset named **DELIVERIES** "
      ]
    },
    {
      "cell_type": "code",
      "metadata": {
        "id": "WAPupga67ggP"
      },
      "source": [
        "deli = pd.read_csv(\"/content/deliveries.csv\")"
      ],
      "execution_count": 41,
      "outputs": []
    },
    {
      "cell_type": "code",
      "metadata": {
        "colab": {
          "base_uri": "https://localhost:8080/",
          "height": 389
        },
        "id": "VbN3u7lL_YMn",
        "outputId": "cdea9ff7-1d74-4bf2-a4db-f615f0e66c31"
      },
      "source": [
        "deli.head()"
      ],
      "execution_count": 42,
      "outputs": [
        {
          "output_type": "execute_result",
          "data": {
            "text/html": [
              "<div>\n",
              "<style scoped>\n",
              "    .dataframe tbody tr th:only-of-type {\n",
              "        vertical-align: middle;\n",
              "    }\n",
              "\n",
              "    .dataframe tbody tr th {\n",
              "        vertical-align: top;\n",
              "    }\n",
              "\n",
              "    .dataframe thead th {\n",
              "        text-align: right;\n",
              "    }\n",
              "</style>\n",
              "<table border=\"1\" class=\"dataframe\">\n",
              "  <thead>\n",
              "    <tr style=\"text-align: right;\">\n",
              "      <th></th>\n",
              "      <th>match_id</th>\n",
              "      <th>inning</th>\n",
              "      <th>batting_team</th>\n",
              "      <th>bowling_team</th>\n",
              "      <th>over</th>\n",
              "      <th>ball</th>\n",
              "      <th>batsman</th>\n",
              "      <th>non_striker</th>\n",
              "      <th>bowler</th>\n",
              "      <th>is_super_over</th>\n",
              "      <th>wide_runs</th>\n",
              "      <th>bye_runs</th>\n",
              "      <th>legbye_runs</th>\n",
              "      <th>noball_runs</th>\n",
              "      <th>penalty_runs</th>\n",
              "      <th>batsman_runs</th>\n",
              "      <th>extra_runs</th>\n",
              "      <th>total_runs</th>\n",
              "      <th>player_dismissed</th>\n",
              "      <th>dismissal_kind</th>\n",
              "      <th>fielder</th>\n",
              "    </tr>\n",
              "  </thead>\n",
              "  <tbody>\n",
              "    <tr>\n",
              "      <th>0</th>\n",
              "      <td>1</td>\n",
              "      <td>1</td>\n",
              "      <td>Sunrisers Hyderabad</td>\n",
              "      <td>Royal Challengers Bangalore</td>\n",
              "      <td>1</td>\n",
              "      <td>1</td>\n",
              "      <td>DA Warner</td>\n",
              "      <td>S Dhawan</td>\n",
              "      <td>TS Mills</td>\n",
              "      <td>0.0</td>\n",
              "      <td>0.0</td>\n",
              "      <td>0.0</td>\n",
              "      <td>0.0</td>\n",
              "      <td>0.0</td>\n",
              "      <td>0.0</td>\n",
              "      <td>0.0</td>\n",
              "      <td>0.0</td>\n",
              "      <td>0.0</td>\n",
              "      <td>NaN</td>\n",
              "      <td>NaN</td>\n",
              "      <td>NaN</td>\n",
              "    </tr>\n",
              "    <tr>\n",
              "      <th>1</th>\n",
              "      <td>1</td>\n",
              "      <td>1</td>\n",
              "      <td>Sunrisers Hyderabad</td>\n",
              "      <td>Royal Challengers Bangalore</td>\n",
              "      <td>1</td>\n",
              "      <td>2</td>\n",
              "      <td>DA Warner</td>\n",
              "      <td>S Dhawan</td>\n",
              "      <td>TS Mills</td>\n",
              "      <td>0.0</td>\n",
              "      <td>0.0</td>\n",
              "      <td>0.0</td>\n",
              "      <td>0.0</td>\n",
              "      <td>0.0</td>\n",
              "      <td>0.0</td>\n",
              "      <td>0.0</td>\n",
              "      <td>0.0</td>\n",
              "      <td>0.0</td>\n",
              "      <td>NaN</td>\n",
              "      <td>NaN</td>\n",
              "      <td>NaN</td>\n",
              "    </tr>\n",
              "    <tr>\n",
              "      <th>2</th>\n",
              "      <td>1</td>\n",
              "      <td>1</td>\n",
              "      <td>Sunrisers Hyderabad</td>\n",
              "      <td>Royal Challengers Bangalore</td>\n",
              "      <td>1</td>\n",
              "      <td>3</td>\n",
              "      <td>DA Warner</td>\n",
              "      <td>S Dhawan</td>\n",
              "      <td>TS Mills</td>\n",
              "      <td>0.0</td>\n",
              "      <td>0.0</td>\n",
              "      <td>0.0</td>\n",
              "      <td>0.0</td>\n",
              "      <td>0.0</td>\n",
              "      <td>0.0</td>\n",
              "      <td>4.0</td>\n",
              "      <td>0.0</td>\n",
              "      <td>4.0</td>\n",
              "      <td>NaN</td>\n",
              "      <td>NaN</td>\n",
              "      <td>NaN</td>\n",
              "    </tr>\n",
              "    <tr>\n",
              "      <th>3</th>\n",
              "      <td>1</td>\n",
              "      <td>1</td>\n",
              "      <td>Sunrisers Hyderabad</td>\n",
              "      <td>Royal Challengers Bangalore</td>\n",
              "      <td>1</td>\n",
              "      <td>4</td>\n",
              "      <td>DA Warner</td>\n",
              "      <td>S Dhawan</td>\n",
              "      <td>TS Mills</td>\n",
              "      <td>0.0</td>\n",
              "      <td>0.0</td>\n",
              "      <td>0.0</td>\n",
              "      <td>0.0</td>\n",
              "      <td>0.0</td>\n",
              "      <td>0.0</td>\n",
              "      <td>0.0</td>\n",
              "      <td>0.0</td>\n",
              "      <td>0.0</td>\n",
              "      <td>NaN</td>\n",
              "      <td>NaN</td>\n",
              "      <td>NaN</td>\n",
              "    </tr>\n",
              "    <tr>\n",
              "      <th>4</th>\n",
              "      <td>1</td>\n",
              "      <td>1</td>\n",
              "      <td>Sunrisers Hyderabad</td>\n",
              "      <td>Royal Challengers Bangalore</td>\n",
              "      <td>1</td>\n",
              "      <td>5</td>\n",
              "      <td>DA Warner</td>\n",
              "      <td>S Dhawan</td>\n",
              "      <td>TS Mills</td>\n",
              "      <td>0.0</td>\n",
              "      <td>2.0</td>\n",
              "      <td>0.0</td>\n",
              "      <td>0.0</td>\n",
              "      <td>0.0</td>\n",
              "      <td>0.0</td>\n",
              "      <td>0.0</td>\n",
              "      <td>2.0</td>\n",
              "      <td>2.0</td>\n",
              "      <td>NaN</td>\n",
              "      <td>NaN</td>\n",
              "      <td>NaN</td>\n",
              "    </tr>\n",
              "  </tbody>\n",
              "</table>\n",
              "</div>"
            ],
            "text/plain": [
              "   match_id  inning  ... dismissal_kind fielder\n",
              "0         1       1  ...            NaN     NaN\n",
              "1         1       1  ...            NaN     NaN\n",
              "2         1       1  ...            NaN     NaN\n",
              "3         1       1  ...            NaN     NaN\n",
              "4         1       1  ...            NaN     NaN\n",
              "\n",
              "[5 rows x 21 columns]"
            ]
          },
          "metadata": {
            "tags": []
          },
          "execution_count": 42
        }
      ]
    },
    {
      "cell_type": "code",
      "metadata": {
        "colab": {
          "base_uri": "https://localhost:8080/"
        },
        "id": "dfH6U720_sjg",
        "outputId": "c4151f25-7c1b-4c32-d282-ef624b85a094"
      },
      "source": [
        "deli.shape"
      ],
      "execution_count": 43,
      "outputs": [
        {
          "output_type": "execute_result",
          "data": {
            "text/plain": [
              "(72276, 21)"
            ]
          },
          "metadata": {
            "tags": []
          },
          "execution_count": 43
        }
      ]
    },
    {
      "cell_type": "code",
      "metadata": {
        "colab": {
          "base_uri": "https://localhost:8080/",
          "height": 314
        },
        "id": "71Yryz2I_vJY",
        "outputId": "d2f02cab-c8fd-4967-8210-42dc66e47d95"
      },
      "source": [
        "deli.describe()"
      ],
      "execution_count": 44,
      "outputs": [
        {
          "output_type": "execute_result",
          "data": {
            "text/html": [
              "<div>\n",
              "<style scoped>\n",
              "    .dataframe tbody tr th:only-of-type {\n",
              "        vertical-align: middle;\n",
              "    }\n",
              "\n",
              "    .dataframe tbody tr th {\n",
              "        vertical-align: top;\n",
              "    }\n",
              "\n",
              "    .dataframe thead th {\n",
              "        text-align: right;\n",
              "    }\n",
              "</style>\n",
              "<table border=\"1\" class=\"dataframe\">\n",
              "  <thead>\n",
              "    <tr style=\"text-align: right;\">\n",
              "      <th></th>\n",
              "      <th>match_id</th>\n",
              "      <th>inning</th>\n",
              "      <th>over</th>\n",
              "      <th>ball</th>\n",
              "      <th>is_super_over</th>\n",
              "      <th>wide_runs</th>\n",
              "      <th>bye_runs</th>\n",
              "      <th>legbye_runs</th>\n",
              "      <th>noball_runs</th>\n",
              "      <th>penalty_runs</th>\n",
              "      <th>batsman_runs</th>\n",
              "      <th>extra_runs</th>\n",
              "      <th>total_runs</th>\n",
              "    </tr>\n",
              "  </thead>\n",
              "  <tbody>\n",
              "    <tr>\n",
              "      <th>count</th>\n",
              "      <td>72276.000000</td>\n",
              "      <td>72276.000000</td>\n",
              "      <td>72276.000000</td>\n",
              "      <td>72276.000000</td>\n",
              "      <td>72275.000000</td>\n",
              "      <td>72275.000000</td>\n",
              "      <td>72275.000000</td>\n",
              "      <td>72275.000000</td>\n",
              "      <td>72275.000000</td>\n",
              "      <td>72275.000000</td>\n",
              "      <td>72275.000000</td>\n",
              "      <td>72275.000000</td>\n",
              "      <td>72275.000000</td>\n",
              "    </tr>\n",
              "    <tr>\n",
              "      <th>mean</th>\n",
              "      <td>153.636297</td>\n",
              "      <td>1.479841</td>\n",
              "      <td>10.094748</td>\n",
              "      <td>3.623872</td>\n",
              "      <td>0.000457</td>\n",
              "      <td>0.039848</td>\n",
              "      <td>0.005617</td>\n",
              "      <td>0.023051</td>\n",
              "      <td>0.004981</td>\n",
              "      <td>0.000069</td>\n",
              "      <td>1.210930</td>\n",
              "      <td>0.073566</td>\n",
              "      <td>1.284497</td>\n",
              "    </tr>\n",
              "    <tr>\n",
              "      <th>std</th>\n",
              "      <td>87.990068</td>\n",
              "      <td>0.501394</td>\n",
              "      <td>5.665967</td>\n",
              "      <td>1.813627</td>\n",
              "      <td>0.021363</td>\n",
              "      <td>0.267799</td>\n",
              "      <td>0.120516</td>\n",
              "      <td>0.204739</td>\n",
              "      <td>0.078925</td>\n",
              "      <td>0.018598</td>\n",
              "      <td>1.590354</td>\n",
              "      <td>0.362626</td>\n",
              "      <td>1.579428</td>\n",
              "    </tr>\n",
              "    <tr>\n",
              "      <th>min</th>\n",
              "      <td>1.000000</td>\n",
              "      <td>1.000000</td>\n",
              "      <td>1.000000</td>\n",
              "      <td>1.000000</td>\n",
              "      <td>0.000000</td>\n",
              "      <td>0.000000</td>\n",
              "      <td>0.000000</td>\n",
              "      <td>0.000000</td>\n",
              "      <td>0.000000</td>\n",
              "      <td>0.000000</td>\n",
              "      <td>0.000000</td>\n",
              "      <td>0.000000</td>\n",
              "      <td>0.000000</td>\n",
              "    </tr>\n",
              "    <tr>\n",
              "      <th>25%</th>\n",
              "      <td>77.000000</td>\n",
              "      <td>1.000000</td>\n",
              "      <td>5.000000</td>\n",
              "      <td>2.000000</td>\n",
              "      <td>0.000000</td>\n",
              "      <td>0.000000</td>\n",
              "      <td>0.000000</td>\n",
              "      <td>0.000000</td>\n",
              "      <td>0.000000</td>\n",
              "      <td>0.000000</td>\n",
              "      <td>0.000000</td>\n",
              "      <td>0.000000</td>\n",
              "      <td>0.000000</td>\n",
              "    </tr>\n",
              "    <tr>\n",
              "      <th>50%</th>\n",
              "      <td>155.000000</td>\n",
              "      <td>1.000000</td>\n",
              "      <td>10.000000</td>\n",
              "      <td>4.000000</td>\n",
              "      <td>0.000000</td>\n",
              "      <td>0.000000</td>\n",
              "      <td>0.000000</td>\n",
              "      <td>0.000000</td>\n",
              "      <td>0.000000</td>\n",
              "      <td>0.000000</td>\n",
              "      <td>1.000000</td>\n",
              "      <td>0.000000</td>\n",
              "      <td>1.000000</td>\n",
              "    </tr>\n",
              "    <tr>\n",
              "      <th>75%</th>\n",
              "      <td>229.000000</td>\n",
              "      <td>2.000000</td>\n",
              "      <td>15.000000</td>\n",
              "      <td>5.000000</td>\n",
              "      <td>0.000000</td>\n",
              "      <td>0.000000</td>\n",
              "      <td>0.000000</td>\n",
              "      <td>0.000000</td>\n",
              "      <td>0.000000</td>\n",
              "      <td>0.000000</td>\n",
              "      <td>1.000000</td>\n",
              "      <td>0.000000</td>\n",
              "      <td>1.000000</td>\n",
              "    </tr>\n",
              "    <tr>\n",
              "      <th>max</th>\n",
              "      <td>307.000000</td>\n",
              "      <td>4.000000</td>\n",
              "      <td>20.000000</td>\n",
              "      <td>9.000000</td>\n",
              "      <td>1.000000</td>\n",
              "      <td>5.000000</td>\n",
              "      <td>4.000000</td>\n",
              "      <td>5.000000</td>\n",
              "      <td>5.000000</td>\n",
              "      <td>5.000000</td>\n",
              "      <td>6.000000</td>\n",
              "      <td>5.000000</td>\n",
              "      <td>7.000000</td>\n",
              "    </tr>\n",
              "  </tbody>\n",
              "</table>\n",
              "</div>"
            ],
            "text/plain": [
              "           match_id        inning  ...    extra_runs    total_runs\n",
              "count  72276.000000  72276.000000  ...  72275.000000  72275.000000\n",
              "mean     153.636297      1.479841  ...      0.073566      1.284497\n",
              "std       87.990068      0.501394  ...      0.362626      1.579428\n",
              "min        1.000000      1.000000  ...      0.000000      0.000000\n",
              "25%       77.000000      1.000000  ...      0.000000      0.000000\n",
              "50%      155.000000      1.000000  ...      0.000000      1.000000\n",
              "75%      229.000000      2.000000  ...      0.000000      1.000000\n",
              "max      307.000000      4.000000  ...      5.000000      7.000000\n",
              "\n",
              "[8 rows x 13 columns]"
            ]
          },
          "metadata": {
            "tags": []
          },
          "execution_count": 44
        }
      ]
    },
    {
      "cell_type": "code",
      "metadata": {
        "id": "9hIqzA19_yNH"
      },
      "source": [
        ""
      ],
      "execution_count": null,
      "outputs": []
    },
    {
      "cell_type": "markdown",
      "metadata": {
        "id": "WH0bN5zKACTA"
      },
      "source": [
        "#Now its time to merge the dataset"
      ]
    },
    {
      "cell_type": "code",
      "metadata": {
        "colab": {
          "base_uri": "https://localhost:8080/",
          "height": 557
        },
        "id": "xUP24FwIAGbj",
        "outputId": "7c9e68cc-be24-4889-f4e4-11cdcc6110da"
      },
      "source": [
        "merge = pd.merge(deli,data,left_on='match_id', right_on ='id')\n",
        "merge.head()"
      ],
      "execution_count": 46,
      "outputs": [
        {
          "output_type": "execute_result",
          "data": {
            "text/html": [
              "<div>\n",
              "<style scoped>\n",
              "    .dataframe tbody tr th:only-of-type {\n",
              "        vertical-align: middle;\n",
              "    }\n",
              "\n",
              "    .dataframe tbody tr th {\n",
              "        vertical-align: top;\n",
              "    }\n",
              "\n",
              "    .dataframe thead th {\n",
              "        text-align: right;\n",
              "    }\n",
              "</style>\n",
              "<table border=\"1\" class=\"dataframe\">\n",
              "  <thead>\n",
              "    <tr style=\"text-align: right;\">\n",
              "      <th></th>\n",
              "      <th>match_id</th>\n",
              "      <th>inning</th>\n",
              "      <th>batting_team</th>\n",
              "      <th>bowling_team</th>\n",
              "      <th>over</th>\n",
              "      <th>ball</th>\n",
              "      <th>batsman</th>\n",
              "      <th>non_striker</th>\n",
              "      <th>bowler</th>\n",
              "      <th>is_super_over</th>\n",
              "      <th>wide_runs</th>\n",
              "      <th>bye_runs</th>\n",
              "      <th>legbye_runs</th>\n",
              "      <th>noball_runs</th>\n",
              "      <th>penalty_runs</th>\n",
              "      <th>batsman_runs</th>\n",
              "      <th>extra_runs</th>\n",
              "      <th>total_runs</th>\n",
              "      <th>player_dismissed</th>\n",
              "      <th>dismissal_kind</th>\n",
              "      <th>fielder</th>\n",
              "      <th>id</th>\n",
              "      <th>season</th>\n",
              "      <th>city</th>\n",
              "      <th>date</th>\n",
              "      <th>team1</th>\n",
              "      <th>team2</th>\n",
              "      <th>toss_winner</th>\n",
              "      <th>toss_decision</th>\n",
              "      <th>result</th>\n",
              "      <th>dl_applied</th>\n",
              "      <th>winner</th>\n",
              "      <th>win_by_runs</th>\n",
              "      <th>win_by_wickets</th>\n",
              "      <th>player_of_match</th>\n",
              "      <th>venue</th>\n",
              "      <th>umpire1</th>\n",
              "      <th>umpire2</th>\n",
              "    </tr>\n",
              "  </thead>\n",
              "  <tbody>\n",
              "    <tr>\n",
              "      <th>0</th>\n",
              "      <td>1</td>\n",
              "      <td>1</td>\n",
              "      <td>Sunrisers Hyderabad</td>\n",
              "      <td>Royal Challengers Bangalore</td>\n",
              "      <td>1</td>\n",
              "      <td>1</td>\n",
              "      <td>DA Warner</td>\n",
              "      <td>S Dhawan</td>\n",
              "      <td>TS Mills</td>\n",
              "      <td>0.0</td>\n",
              "      <td>0.0</td>\n",
              "      <td>0.0</td>\n",
              "      <td>0.0</td>\n",
              "      <td>0.0</td>\n",
              "      <td>0.0</td>\n",
              "      <td>0.0</td>\n",
              "      <td>0.0</td>\n",
              "      <td>0.0</td>\n",
              "      <td>NaN</td>\n",
              "      <td>NaN</td>\n",
              "      <td>NaN</td>\n",
              "      <td>1</td>\n",
              "      <td>2017</td>\n",
              "      <td>Hyderabad</td>\n",
              "      <td>2017-04-05</td>\n",
              "      <td>Sunrisers Hyderabad</td>\n",
              "      <td>Royal Challengers Bangalore</td>\n",
              "      <td>Royal Challengers Bangalore</td>\n",
              "      <td>field</td>\n",
              "      <td>normal</td>\n",
              "      <td>0</td>\n",
              "      <td>Sunrisers Hyderabad</td>\n",
              "      <td>35</td>\n",
              "      <td>0</td>\n",
              "      <td>Yuvraj Singh</td>\n",
              "      <td>Rajiv Gandhi International Stadium, Uppal</td>\n",
              "      <td>AY Dandekar</td>\n",
              "      <td>NJ Llong</td>\n",
              "    </tr>\n",
              "    <tr>\n",
              "      <th>1</th>\n",
              "      <td>1</td>\n",
              "      <td>1</td>\n",
              "      <td>Sunrisers Hyderabad</td>\n",
              "      <td>Royal Challengers Bangalore</td>\n",
              "      <td>1</td>\n",
              "      <td>2</td>\n",
              "      <td>DA Warner</td>\n",
              "      <td>S Dhawan</td>\n",
              "      <td>TS Mills</td>\n",
              "      <td>0.0</td>\n",
              "      <td>0.0</td>\n",
              "      <td>0.0</td>\n",
              "      <td>0.0</td>\n",
              "      <td>0.0</td>\n",
              "      <td>0.0</td>\n",
              "      <td>0.0</td>\n",
              "      <td>0.0</td>\n",
              "      <td>0.0</td>\n",
              "      <td>NaN</td>\n",
              "      <td>NaN</td>\n",
              "      <td>NaN</td>\n",
              "      <td>1</td>\n",
              "      <td>2017</td>\n",
              "      <td>Hyderabad</td>\n",
              "      <td>2017-04-05</td>\n",
              "      <td>Sunrisers Hyderabad</td>\n",
              "      <td>Royal Challengers Bangalore</td>\n",
              "      <td>Royal Challengers Bangalore</td>\n",
              "      <td>field</td>\n",
              "      <td>normal</td>\n",
              "      <td>0</td>\n",
              "      <td>Sunrisers Hyderabad</td>\n",
              "      <td>35</td>\n",
              "      <td>0</td>\n",
              "      <td>Yuvraj Singh</td>\n",
              "      <td>Rajiv Gandhi International Stadium, Uppal</td>\n",
              "      <td>AY Dandekar</td>\n",
              "      <td>NJ Llong</td>\n",
              "    </tr>\n",
              "    <tr>\n",
              "      <th>2</th>\n",
              "      <td>1</td>\n",
              "      <td>1</td>\n",
              "      <td>Sunrisers Hyderabad</td>\n",
              "      <td>Royal Challengers Bangalore</td>\n",
              "      <td>1</td>\n",
              "      <td>3</td>\n",
              "      <td>DA Warner</td>\n",
              "      <td>S Dhawan</td>\n",
              "      <td>TS Mills</td>\n",
              "      <td>0.0</td>\n",
              "      <td>0.0</td>\n",
              "      <td>0.0</td>\n",
              "      <td>0.0</td>\n",
              "      <td>0.0</td>\n",
              "      <td>0.0</td>\n",
              "      <td>4.0</td>\n",
              "      <td>0.0</td>\n",
              "      <td>4.0</td>\n",
              "      <td>NaN</td>\n",
              "      <td>NaN</td>\n",
              "      <td>NaN</td>\n",
              "      <td>1</td>\n",
              "      <td>2017</td>\n",
              "      <td>Hyderabad</td>\n",
              "      <td>2017-04-05</td>\n",
              "      <td>Sunrisers Hyderabad</td>\n",
              "      <td>Royal Challengers Bangalore</td>\n",
              "      <td>Royal Challengers Bangalore</td>\n",
              "      <td>field</td>\n",
              "      <td>normal</td>\n",
              "      <td>0</td>\n",
              "      <td>Sunrisers Hyderabad</td>\n",
              "      <td>35</td>\n",
              "      <td>0</td>\n",
              "      <td>Yuvraj Singh</td>\n",
              "      <td>Rajiv Gandhi International Stadium, Uppal</td>\n",
              "      <td>AY Dandekar</td>\n",
              "      <td>NJ Llong</td>\n",
              "    </tr>\n",
              "    <tr>\n",
              "      <th>3</th>\n",
              "      <td>1</td>\n",
              "      <td>1</td>\n",
              "      <td>Sunrisers Hyderabad</td>\n",
              "      <td>Royal Challengers Bangalore</td>\n",
              "      <td>1</td>\n",
              "      <td>4</td>\n",
              "      <td>DA Warner</td>\n",
              "      <td>S Dhawan</td>\n",
              "      <td>TS Mills</td>\n",
              "      <td>0.0</td>\n",
              "      <td>0.0</td>\n",
              "      <td>0.0</td>\n",
              "      <td>0.0</td>\n",
              "      <td>0.0</td>\n",
              "      <td>0.0</td>\n",
              "      <td>0.0</td>\n",
              "      <td>0.0</td>\n",
              "      <td>0.0</td>\n",
              "      <td>NaN</td>\n",
              "      <td>NaN</td>\n",
              "      <td>NaN</td>\n",
              "      <td>1</td>\n",
              "      <td>2017</td>\n",
              "      <td>Hyderabad</td>\n",
              "      <td>2017-04-05</td>\n",
              "      <td>Sunrisers Hyderabad</td>\n",
              "      <td>Royal Challengers Bangalore</td>\n",
              "      <td>Royal Challengers Bangalore</td>\n",
              "      <td>field</td>\n",
              "      <td>normal</td>\n",
              "      <td>0</td>\n",
              "      <td>Sunrisers Hyderabad</td>\n",
              "      <td>35</td>\n",
              "      <td>0</td>\n",
              "      <td>Yuvraj Singh</td>\n",
              "      <td>Rajiv Gandhi International Stadium, Uppal</td>\n",
              "      <td>AY Dandekar</td>\n",
              "      <td>NJ Llong</td>\n",
              "    </tr>\n",
              "    <tr>\n",
              "      <th>4</th>\n",
              "      <td>1</td>\n",
              "      <td>1</td>\n",
              "      <td>Sunrisers Hyderabad</td>\n",
              "      <td>Royal Challengers Bangalore</td>\n",
              "      <td>1</td>\n",
              "      <td>5</td>\n",
              "      <td>DA Warner</td>\n",
              "      <td>S Dhawan</td>\n",
              "      <td>TS Mills</td>\n",
              "      <td>0.0</td>\n",
              "      <td>2.0</td>\n",
              "      <td>0.0</td>\n",
              "      <td>0.0</td>\n",
              "      <td>0.0</td>\n",
              "      <td>0.0</td>\n",
              "      <td>0.0</td>\n",
              "      <td>2.0</td>\n",
              "      <td>2.0</td>\n",
              "      <td>NaN</td>\n",
              "      <td>NaN</td>\n",
              "      <td>NaN</td>\n",
              "      <td>1</td>\n",
              "      <td>2017</td>\n",
              "      <td>Hyderabad</td>\n",
              "      <td>2017-04-05</td>\n",
              "      <td>Sunrisers Hyderabad</td>\n",
              "      <td>Royal Challengers Bangalore</td>\n",
              "      <td>Royal Challengers Bangalore</td>\n",
              "      <td>field</td>\n",
              "      <td>normal</td>\n",
              "      <td>0</td>\n",
              "      <td>Sunrisers Hyderabad</td>\n",
              "      <td>35</td>\n",
              "      <td>0</td>\n",
              "      <td>Yuvraj Singh</td>\n",
              "      <td>Rajiv Gandhi International Stadium, Uppal</td>\n",
              "      <td>AY Dandekar</td>\n",
              "      <td>NJ Llong</td>\n",
              "    </tr>\n",
              "  </tbody>\n",
              "</table>\n",
              "</div>"
            ],
            "text/plain": [
              "   match_id  inning  ...      umpire1   umpire2\n",
              "0         1       1  ...  AY Dandekar  NJ Llong\n",
              "1         1       1  ...  AY Dandekar  NJ Llong\n",
              "2         1       1  ...  AY Dandekar  NJ Llong\n",
              "3         1       1  ...  AY Dandekar  NJ Llong\n",
              "4         1       1  ...  AY Dandekar  NJ Llong\n",
              "\n",
              "[5 rows x 38 columns]"
            ]
          },
          "metadata": {
            "tags": []
          },
          "execution_count": 46
        }
      ]
    },
    {
      "cell_type": "code",
      "metadata": {
        "colab": {
          "base_uri": "https://localhost:8080/",
          "height": 440
        },
        "id": "_8ZTq8ofAfgj",
        "outputId": "5c46e9de-5205-4cd1-f2eb-e97260a30502"
      },
      "source": [
        "data.head(5)"
      ],
      "execution_count": 49,
      "outputs": [
        {
          "output_type": "execute_result",
          "data": {
            "text/html": [
              "<div>\n",
              "<style scoped>\n",
              "    .dataframe tbody tr th:only-of-type {\n",
              "        vertical-align: middle;\n",
              "    }\n",
              "\n",
              "    .dataframe tbody tr th {\n",
              "        vertical-align: top;\n",
              "    }\n",
              "\n",
              "    .dataframe thead th {\n",
              "        text-align: right;\n",
              "    }\n",
              "</style>\n",
              "<table border=\"1\" class=\"dataframe\">\n",
              "  <thead>\n",
              "    <tr style=\"text-align: right;\">\n",
              "      <th></th>\n",
              "      <th>id</th>\n",
              "      <th>season</th>\n",
              "      <th>city</th>\n",
              "      <th>date</th>\n",
              "      <th>team1</th>\n",
              "      <th>team2</th>\n",
              "      <th>toss_winner</th>\n",
              "      <th>toss_decision</th>\n",
              "      <th>result</th>\n",
              "      <th>dl_applied</th>\n",
              "      <th>winner</th>\n",
              "      <th>win_by_runs</th>\n",
              "      <th>win_by_wickets</th>\n",
              "      <th>player_of_match</th>\n",
              "      <th>venue</th>\n",
              "      <th>umpire1</th>\n",
              "      <th>umpire2</th>\n",
              "    </tr>\n",
              "  </thead>\n",
              "  <tbody>\n",
              "    <tr>\n",
              "      <th>0</th>\n",
              "      <td>1</td>\n",
              "      <td>2017</td>\n",
              "      <td>Hyderabad</td>\n",
              "      <td>2017-04-05</td>\n",
              "      <td>Sunrisers Hyderabad</td>\n",
              "      <td>Royal Challengers Bangalore</td>\n",
              "      <td>Royal Challengers Bangalore</td>\n",
              "      <td>field</td>\n",
              "      <td>normal</td>\n",
              "      <td>0</td>\n",
              "      <td>Sunrisers Hyderabad</td>\n",
              "      <td>35</td>\n",
              "      <td>0</td>\n",
              "      <td>Yuvraj Singh</td>\n",
              "      <td>Rajiv Gandhi International Stadium, Uppal</td>\n",
              "      <td>AY Dandekar</td>\n",
              "      <td>NJ Llong</td>\n",
              "    </tr>\n",
              "    <tr>\n",
              "      <th>1</th>\n",
              "      <td>2</td>\n",
              "      <td>2017</td>\n",
              "      <td>Pune</td>\n",
              "      <td>2017-04-06</td>\n",
              "      <td>Mumbai Indians</td>\n",
              "      <td>Rising Pune Supergiant</td>\n",
              "      <td>Rising Pune Supergiant</td>\n",
              "      <td>field</td>\n",
              "      <td>normal</td>\n",
              "      <td>0</td>\n",
              "      <td>Rising Pune Supergiant</td>\n",
              "      <td>0</td>\n",
              "      <td>7</td>\n",
              "      <td>SPD Smith</td>\n",
              "      <td>Maharashtra Cricket Association Stadium</td>\n",
              "      <td>A Nand Kishore</td>\n",
              "      <td>S Ravi</td>\n",
              "    </tr>\n",
              "    <tr>\n",
              "      <th>2</th>\n",
              "      <td>3</td>\n",
              "      <td>2017</td>\n",
              "      <td>Rajkot</td>\n",
              "      <td>2017-04-07</td>\n",
              "      <td>Gujarat Lions</td>\n",
              "      <td>Kolkata Knight Riders</td>\n",
              "      <td>Kolkata Knight Riders</td>\n",
              "      <td>field</td>\n",
              "      <td>normal</td>\n",
              "      <td>0</td>\n",
              "      <td>Kolkata Knight Riders</td>\n",
              "      <td>0</td>\n",
              "      <td>10</td>\n",
              "      <td>CA Lynn</td>\n",
              "      <td>Saurashtra Cricket Association Stadium</td>\n",
              "      <td>Nitin Menon</td>\n",
              "      <td>CK Nandan</td>\n",
              "    </tr>\n",
              "    <tr>\n",
              "      <th>3</th>\n",
              "      <td>4</td>\n",
              "      <td>2017</td>\n",
              "      <td>Indore</td>\n",
              "      <td>2017-04-08</td>\n",
              "      <td>Rising Pune Supergiant</td>\n",
              "      <td>Kings XI Punjab</td>\n",
              "      <td>Kings XI Punjab</td>\n",
              "      <td>field</td>\n",
              "      <td>normal</td>\n",
              "      <td>0</td>\n",
              "      <td>Kings XI Punjab</td>\n",
              "      <td>0</td>\n",
              "      <td>6</td>\n",
              "      <td>GJ Maxwell</td>\n",
              "      <td>Holkar Cricket Stadium</td>\n",
              "      <td>AK Chaudhary</td>\n",
              "      <td>C Shamshuddin</td>\n",
              "    </tr>\n",
              "    <tr>\n",
              "      <th>4</th>\n",
              "      <td>5</td>\n",
              "      <td>2017</td>\n",
              "      <td>Bangalore</td>\n",
              "      <td>2017-04-08</td>\n",
              "      <td>Royal Challengers Bangalore</td>\n",
              "      <td>Delhi Daredevils</td>\n",
              "      <td>Royal Challengers Bangalore</td>\n",
              "      <td>bat</td>\n",
              "      <td>normal</td>\n",
              "      <td>0</td>\n",
              "      <td>Royal Challengers Bangalore</td>\n",
              "      <td>15</td>\n",
              "      <td>0</td>\n",
              "      <td>KM Jadhav</td>\n",
              "      <td>M Chinnaswamy Stadium</td>\n",
              "      <td>NaN</td>\n",
              "      <td>NaN</td>\n",
              "    </tr>\n",
              "  </tbody>\n",
              "</table>\n",
              "</div>"
            ],
            "text/plain": [
              "   id  season  ...         umpire1        umpire2\n",
              "0   1    2017  ...     AY Dandekar       NJ Llong\n",
              "1   2    2017  ...  A Nand Kishore         S Ravi\n",
              "2   3    2017  ...     Nitin Menon      CK Nandan\n",
              "3   4    2017  ...    AK Chaudhary  C Shamshuddin\n",
              "4   5    2017  ...             NaN            NaN\n",
              "\n",
              "[5 rows x 17 columns]"
            ]
          },
          "metadata": {
            "tags": []
          },
          "execution_count": 49
        }
      ]
    },
    {
      "cell_type": "code",
      "metadata": {
        "colab": {
          "base_uri": "https://localhost:8080/",
          "height": 314
        },
        "id": "K7rtVpfdAVAe",
        "outputId": "f35b890e-c1cb-4599-c206-efc564adee7d"
      },
      "source": [
        "deli.describe()"
      ],
      "execution_count": 48,
      "outputs": [
        {
          "output_type": "execute_result",
          "data": {
            "text/html": [
              "<div>\n",
              "<style scoped>\n",
              "    .dataframe tbody tr th:only-of-type {\n",
              "        vertical-align: middle;\n",
              "    }\n",
              "\n",
              "    .dataframe tbody tr th {\n",
              "        vertical-align: top;\n",
              "    }\n",
              "\n",
              "    .dataframe thead th {\n",
              "        text-align: right;\n",
              "    }\n",
              "</style>\n",
              "<table border=\"1\" class=\"dataframe\">\n",
              "  <thead>\n",
              "    <tr style=\"text-align: right;\">\n",
              "      <th></th>\n",
              "      <th>match_id</th>\n",
              "      <th>inning</th>\n",
              "      <th>over</th>\n",
              "      <th>ball</th>\n",
              "      <th>is_super_over</th>\n",
              "      <th>wide_runs</th>\n",
              "      <th>bye_runs</th>\n",
              "      <th>legbye_runs</th>\n",
              "      <th>noball_runs</th>\n",
              "      <th>penalty_runs</th>\n",
              "      <th>batsman_runs</th>\n",
              "      <th>extra_runs</th>\n",
              "      <th>total_runs</th>\n",
              "    </tr>\n",
              "  </thead>\n",
              "  <tbody>\n",
              "    <tr>\n",
              "      <th>count</th>\n",
              "      <td>72276.000000</td>\n",
              "      <td>72276.000000</td>\n",
              "      <td>72276.000000</td>\n",
              "      <td>72276.000000</td>\n",
              "      <td>72275.000000</td>\n",
              "      <td>72275.000000</td>\n",
              "      <td>72275.000000</td>\n",
              "      <td>72275.000000</td>\n",
              "      <td>72275.000000</td>\n",
              "      <td>72275.000000</td>\n",
              "      <td>72275.000000</td>\n",
              "      <td>72275.000000</td>\n",
              "      <td>72275.000000</td>\n",
              "    </tr>\n",
              "    <tr>\n",
              "      <th>mean</th>\n",
              "      <td>153.636297</td>\n",
              "      <td>1.479841</td>\n",
              "      <td>10.094748</td>\n",
              "      <td>3.623872</td>\n",
              "      <td>0.000457</td>\n",
              "      <td>0.039848</td>\n",
              "      <td>0.005617</td>\n",
              "      <td>0.023051</td>\n",
              "      <td>0.004981</td>\n",
              "      <td>0.000069</td>\n",
              "      <td>1.210930</td>\n",
              "      <td>0.073566</td>\n",
              "      <td>1.284497</td>\n",
              "    </tr>\n",
              "    <tr>\n",
              "      <th>std</th>\n",
              "      <td>87.990068</td>\n",
              "      <td>0.501394</td>\n",
              "      <td>5.665967</td>\n",
              "      <td>1.813627</td>\n",
              "      <td>0.021363</td>\n",
              "      <td>0.267799</td>\n",
              "      <td>0.120516</td>\n",
              "      <td>0.204739</td>\n",
              "      <td>0.078925</td>\n",
              "      <td>0.018598</td>\n",
              "      <td>1.590354</td>\n",
              "      <td>0.362626</td>\n",
              "      <td>1.579428</td>\n",
              "    </tr>\n",
              "    <tr>\n",
              "      <th>min</th>\n",
              "      <td>1.000000</td>\n",
              "      <td>1.000000</td>\n",
              "      <td>1.000000</td>\n",
              "      <td>1.000000</td>\n",
              "      <td>0.000000</td>\n",
              "      <td>0.000000</td>\n",
              "      <td>0.000000</td>\n",
              "      <td>0.000000</td>\n",
              "      <td>0.000000</td>\n",
              "      <td>0.000000</td>\n",
              "      <td>0.000000</td>\n",
              "      <td>0.000000</td>\n",
              "      <td>0.000000</td>\n",
              "    </tr>\n",
              "    <tr>\n",
              "      <th>25%</th>\n",
              "      <td>77.000000</td>\n",
              "      <td>1.000000</td>\n",
              "      <td>5.000000</td>\n",
              "      <td>2.000000</td>\n",
              "      <td>0.000000</td>\n",
              "      <td>0.000000</td>\n",
              "      <td>0.000000</td>\n",
              "      <td>0.000000</td>\n",
              "      <td>0.000000</td>\n",
              "      <td>0.000000</td>\n",
              "      <td>0.000000</td>\n",
              "      <td>0.000000</td>\n",
              "      <td>0.000000</td>\n",
              "    </tr>\n",
              "    <tr>\n",
              "      <th>50%</th>\n",
              "      <td>155.000000</td>\n",
              "      <td>1.000000</td>\n",
              "      <td>10.000000</td>\n",
              "      <td>4.000000</td>\n",
              "      <td>0.000000</td>\n",
              "      <td>0.000000</td>\n",
              "      <td>0.000000</td>\n",
              "      <td>0.000000</td>\n",
              "      <td>0.000000</td>\n",
              "      <td>0.000000</td>\n",
              "      <td>1.000000</td>\n",
              "      <td>0.000000</td>\n",
              "      <td>1.000000</td>\n",
              "    </tr>\n",
              "    <tr>\n",
              "      <th>75%</th>\n",
              "      <td>229.000000</td>\n",
              "      <td>2.000000</td>\n",
              "      <td>15.000000</td>\n",
              "      <td>5.000000</td>\n",
              "      <td>0.000000</td>\n",
              "      <td>0.000000</td>\n",
              "      <td>0.000000</td>\n",
              "      <td>0.000000</td>\n",
              "      <td>0.000000</td>\n",
              "      <td>0.000000</td>\n",
              "      <td>1.000000</td>\n",
              "      <td>0.000000</td>\n",
              "      <td>1.000000</td>\n",
              "    </tr>\n",
              "    <tr>\n",
              "      <th>max</th>\n",
              "      <td>307.000000</td>\n",
              "      <td>4.000000</td>\n",
              "      <td>20.000000</td>\n",
              "      <td>9.000000</td>\n",
              "      <td>1.000000</td>\n",
              "      <td>5.000000</td>\n",
              "      <td>4.000000</td>\n",
              "      <td>5.000000</td>\n",
              "      <td>5.000000</td>\n",
              "      <td>5.000000</td>\n",
              "      <td>6.000000</td>\n",
              "      <td>5.000000</td>\n",
              "      <td>7.000000</td>\n",
              "    </tr>\n",
              "  </tbody>\n",
              "</table>\n",
              "</div>"
            ],
            "text/plain": [
              "           match_id        inning  ...    extra_runs    total_runs\n",
              "count  72276.000000  72276.000000  ...  72275.000000  72275.000000\n",
              "mean     153.636297      1.479841  ...      0.073566      1.284497\n",
              "std       87.990068      0.501394  ...      0.362626      1.579428\n",
              "min        1.000000      1.000000  ...      0.000000      0.000000\n",
              "25%       77.000000      1.000000  ...      0.000000      0.000000\n",
              "50%      155.000000      1.000000  ...      0.000000      1.000000\n",
              "75%      229.000000      2.000000  ...      0.000000      1.000000\n",
              "max      307.000000      4.000000  ...      5.000000      7.000000\n",
              "\n",
              "[8 rows x 13 columns]"
            ]
          },
          "metadata": {
            "tags": []
          },
          "execution_count": 48
        }
      ]
    },
    {
      "cell_type": "code",
      "metadata": {
        "id": "i6Fxb4tOAccm"
      },
      "source": [
        ""
      ],
      "execution_count": null,
      "outputs": []
    },
    {
      "cell_type": "markdown",
      "metadata": {
        "id": "hcYuR8ELApmh"
      },
      "source": [
        "#Highest wicket takers "
      ]
    },
    {
      "cell_type": "code",
      "metadata": {
        "colab": {
          "base_uri": "https://localhost:8080/",
          "height": 517
        },
        "id": "8ABOVfR4As_B",
        "outputId": "7e558488-796b-4023-bc98-d6cebb909990"
      },
      "source": [
        "plt.figure(figsize=(12,8))\n",
        "deli.groupby('bowler')['player_dismissed'].count().sort_values(ascending=False).head(10).plot(kind='bar',color='red')\n",
        "plt.title('Highest Wicket Takers of IPL')\n",
        "plt.xlabel('Bowler')\n",
        "plt.ylabel('Total Wickets Taken')\n",
        "plt.show()\n"
      ],
      "execution_count": 59,
      "outputs": [
        {
          "output_type": "display_data",
          "data": {
            "image/png": "[encoded data removed]",
            "text/plain": [
              "<Figure size 864x576 with 1 Axes>"
            ]
          },
          "metadata": {
            "tags": [],
            "needs_background": "light"
          }
        }
      ]
    },
    {
      "cell_type": "code",
      "metadata": {
        "id": "gk01Wf0sBN3E"
      },
      "source": [
        ""
      ],
      "execution_count": null,
      "outputs": []
    },
    {
      "cell_type": "markdown",
      "metadata": {
        "id": "KzWbnWmqBYEI"
      },
      "source": [
        "#Batsman with higher number of sixes"
      ]
    },
    {
      "cell_type": "code",
      "metadata": {
        "colab": {
          "base_uri": "https://localhost:8080/"
        },
        "id": "fIn-suvYBgVs",
        "outputId": "92bf36e8-3901-4a65-ffbc-6e8812510ab6"
      },
      "source": [
        "six=merge[merge['batsman_runs']==6]\n",
        "s=six.groupby('batsman').count()['batsman_runs'].sort_values(ascending=False).head(10)\n",
        "s"
      ],
      "execution_count": 63,
      "outputs": [
        {
          "output_type": "execute_result",
          "data": {
            "text/plain": [
              "batsman\n",
              "SK Raina        91\n",
              "CH Gayle        84\n",
              "YK Pathan       82\n",
              "AC Gilchrist    82\n",
              "Yuvraj Singh    75\n",
              "RG Sharma       73\n",
              "RV Uthappa      70\n",
              "MS Dhoni        69\n",
              "BB McCullum     63\n",
              "V Sehwag        60\n",
              "Name: batsman_runs, dtype: int64"
            ]
          },
          "metadata": {
            "tags": []
          },
          "execution_count": 63
        }
      ]
    },
    {
      "cell_type": "code",
      "metadata": {
        "colab": {
          "base_uri": "https://localhost:8080/",
          "height": 316
        },
        "id": "FJA7SpP_B_kD",
        "outputId": "6dfe3e61-ed12-4136-edca-d48c62d2c073"
      },
      "source": [
        "plt.figure(figsize=(14,6))\n",
        "sns.barplot(data=merge,x=s.index,y=s,edgecolor = 'black')"
      ],
      "execution_count": 66,
      "outputs": [
        {
          "output_type": "execute_result",
          "data": {
            "text/plain": [
              "<matplotlib.axes._subplots.AxesSubplot at 0x7ffbb89ca350>"
            ]
          },
          "metadata": {
            "tags": []
          },
          "execution_count": 66
        },
        {
          "output_type": "display_data",
          "data": {
            "image/png": "[encoded data removed]",
            "text/plain": [
              "<Figure size 1008x432 with 1 Axes>"
            ]
          },
          "metadata": {
            "tags": [],
            "needs_background": "light"
          }
        }
      ]
    },
    {
      "cell_type": "markdown",
      "metadata": {
        "id": "bvG1kOxUCMsE"
      },
      "source": [
        ""
      ]
    },
    {
      "cell_type": "code",
      "metadata": {
        "id": "khkLBCdkCLr3"
      },
      "source": [
        "\n"
      ],
      "execution_count": 67,
      "outputs": []
    },
    {
      "cell_type": "markdown",
      "metadata": {
        "id": "vZUqSFpuCUyU"
      },
      "source": [
        "#THANKYOU FOR THIS WONDEREFUL OPPURTUNITY THE SPARKS FOUNDATION.\n",
        "\n",
        "\n",
        "![1519895156650.png](data:image/png;base64,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)"
      ]
    },
    {
      "cell_type": "code",
      "metadata": {
        "id": "AwzTf1HXCiU3"
      },
      "source": [
        ""
      ],
      "execution_count": null,
      "outputs": []
    }
  ]
}