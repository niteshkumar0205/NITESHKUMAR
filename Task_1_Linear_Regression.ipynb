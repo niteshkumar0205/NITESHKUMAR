{
  "nbformat": 4,
  "nbformat_minor": 0,
  "metadata": {
    "colab": {
      "name": "Task_1_Linear Regression.ipynb",
      "provenance": [],
      "authorship_tag": "ABX9TyMBiy/wuniQ0JBbxhtnS12U",
      "include_colab_link": true
    },
    "kernelspec": {
      "name": "python3",
      "display_name": "Python 3"
    },
    "language_info": {
      "name": "python"
    }
  },
  "cells": [
    {
      "cell_type": "markdown",
      "metadata": {
        "id": "view-in-github",
        "colab_type": "text"
      },
      "source": [
        "<a href=\"https://colab.research.google.com/github/niteshkumar0205/sparks-foundation-internship/blob/main/Task_1_Linear_Regression.ipynb\" target=\"_parent\"><img src=\"https://colab.research.google.com/assets/colab-badge.svg\" alt=\"Open In Colab\"/></a>"
      ]
    },
    {
      "cell_type": "markdown",
      "metadata": {
        "id": "leL5Wh95r3w7"
      },
      "source": [
        "## Student dataset\n",
        "\n",
        "#Intern name : Niteshkumar G\n",
        "#Task 1: Preditcton using supervised ml \n",
        "#Problem Statement : Predict the percentage of an student based on tht no of study hours.What will be predicted score if a student studies for 9.25hrs/day. \n",
        "\n",
        "\n",
        "![1519895156650.png](data:image/png;base64,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)\n"
      ]
    },
    {
      "cell_type": "code",
      "metadata": {
        "id": "G__bgUGisvSX"
      },
      "source": [
        "import pandas as pd \n",
        "import numpy as np\n",
        "import matplotlib.pyplot as plt\n",
        "%matplotlib inline\n",
        "from sklearn.linear_model import LinearRegression\n",
        "from sklearn.model_selection import train_test_split"
      ],
      "execution_count": 39,
      "outputs": []
    },
    {
      "cell_type": "code",
      "metadata": {
        "id": "9zahIBVes81i"
      },
      "source": [
        "data = pd.read_csv(\"https://raw.githubusercontent.com/AdiPersonalWorks/Random/master/student_scores%20-%20student_scores.csv\")"
      ],
      "execution_count": 40,
      "outputs": []
    },
    {
      "cell_type": "code",
      "metadata": {
        "colab": {
          "base_uri": "https://localhost:8080/",
          "height": 356
        },
        "id": "FY1K4axDtUAU",
        "outputId": "fda01cd8-6cb7-4368-8da3-2fa6f913aae8"
      },
      "source": [
        "data.head(10)"
      ],
      "execution_count": 41,
      "outputs": [
        {
          "output_type": "execute_result",
          "data": {
            "text/html": [
              "<div>\n",
              "<style scoped>\n",
              "    .dataframe tbody tr th:only-of-type {\n",
              "        vertical-align: middle;\n",
              "    }\n",
              "\n",
              "    .dataframe tbody tr th {\n",
              "        vertical-align: top;\n",
              "    }\n",
              "\n",
              "    .dataframe thead th {\n",
              "        text-align: right;\n",
              "    }\n",
              "</style>\n",
              "<table border=\"1\" class=\"dataframe\">\n",
              "  <thead>\n",
              "    <tr style=\"text-align: right;\">\n",
              "      <th></th>\n",
              "      <th>Hours</th>\n",
              "      <th>Scores</th>\n",
              "    </tr>\n",
              "  </thead>\n",
              "  <tbody>\n",
              "    <tr>\n",
              "      <th>0</th>\n",
              "      <td>2.5</td>\n",
              "      <td>21</td>\n",
              "    </tr>\n",
              "    <tr>\n",
              "      <th>1</th>\n",
              "      <td>5.1</td>\n",
              "      <td>47</td>\n",
              "    </tr>\n",
              "    <tr>\n",
              "      <th>2</th>\n",
              "      <td>3.2</td>\n",
              "      <td>27</td>\n",
              "    </tr>\n",
              "    <tr>\n",
              "      <th>3</th>\n",
              "      <td>8.5</td>\n",
              "      <td>75</td>\n",
              "    </tr>\n",
              "    <tr>\n",
              "      <th>4</th>\n",
              "      <td>3.5</td>\n",
              "      <td>30</td>\n",
              "    </tr>\n",
              "    <tr>\n",
              "      <th>5</th>\n",
              "      <td>1.5</td>\n",
              "      <td>20</td>\n",
              "    </tr>\n",
              "    <tr>\n",
              "      <th>6</th>\n",
              "      <td>9.2</td>\n",
              "      <td>88</td>\n",
              "    </tr>\n",
              "    <tr>\n",
              "      <th>7</th>\n",
              "      <td>5.5</td>\n",
              "      <td>60</td>\n",
              "    </tr>\n",
              "    <tr>\n",
              "      <th>8</th>\n",
              "      <td>8.3</td>\n",
              "      <td>81</td>\n",
              "    </tr>\n",
              "    <tr>\n",
              "      <th>9</th>\n",
              "      <td>2.7</td>\n",
              "      <td>25</td>\n",
              "    </tr>\n",
              "  </tbody>\n",
              "</table>\n",
              "</div>"
            ],
            "text/plain": [
              "   Hours  Scores\n",
              "0    2.5      21\n",
              "1    5.1      47\n",
              "2    3.2      27\n",
              "3    8.5      75\n",
              "4    3.5      30\n",
              "5    1.5      20\n",
              "6    9.2      88\n",
              "7    5.5      60\n",
              "8    8.3      81\n",
              "9    2.7      25"
            ]
          },
          "metadata": {
            "tags": []
          },
          "execution_count": 41
        }
      ]
    },
    {
      "cell_type": "markdown",
      "metadata": {
        "id": "rIcQrLaItn9u"
      },
      "source": [
        "#now lets plot our data points (Scatter plot)"
      ]
    },
    {
      "cell_type": "code",
      "metadata": {
        "colab": {
          "base_uri": "https://localhost:8080/",
          "height": 295
        },
        "id": "6SKtNfCuwXNa",
        "outputId": "958d555e-79ef-4040-9ac4-c39e92c4fd96"
      },
      "source": [
        "plt.scatter(x= data.Hours,y= data.Scores)\n",
        "plt.xlabel(\"Hours unit\")\n",
        "plt.ylabel(\"scores out of 100\")\n",
        "plt.title(\"scorces vs hours\")\n",
        "plt.show()"
      ],
      "execution_count": 42,
      "outputs": [
        {
          "output_type": "display_data",
          "data": {
            "image/png": "[encoded data removed]",
            "text/plain": [
              "<Figure size 432x288 with 1 Axes>"
            ]
          },
          "metadata": {
            "tags": [],
            "needs_background": "light"
          }
        }
      ]
    },
    {
      "cell_type": "code",
      "metadata": {
        "colab": {
          "base_uri": "https://localhost:8080/"
        },
        "id": "7PiEKFXvwt5t",
        "outputId": "fd734490-170c-40fb-c888-555214b368e6"
      },
      "source": [
        "data.info()"
      ],
      "execution_count": 43,
      "outputs": [
        {
          "output_type": "stream",
          "text": [
            "<class 'pandas.core.frame.DataFrame'>\n",
            "RangeIndex: 25 entries, 0 to 24\n",
            "Data columns (total 2 columns):\n",
            " #   Column  Non-Null Count  Dtype  \n",
            "---  ------  --------------  -----  \n",
            " 0   Hours   25 non-null     float64\n",
            " 1   Scores  25 non-null     int64  \n",
            "dtypes: float64(1), int64(1)\n",
            "memory usage: 528.0 bytes\n"
          ],
          "name": "stdout"
        }
      ]
    },
    {
      "cell_type": "code",
      "metadata": {
        "colab": {
          "base_uri": "https://localhost:8080/"
        },
        "id": "ZJ3quvD6xPjD",
        "outputId": "eb7716c2-23a8-4166-fc5d-39f81b3a3426"
      },
      "source": [
        "data.shape"
      ],
      "execution_count": 44,
      "outputs": [
        {
          "output_type": "execute_result",
          "data": {
            "text/plain": [
              "(25, 2)"
            ]
          },
          "metadata": {
            "tags": []
          },
          "execution_count": 44
        }
      ]
    },
    {
      "cell_type": "code",
      "metadata": {
        "colab": {
          "base_uri": "https://localhost:8080/",
          "height": 294
        },
        "id": "ZciPr1vcxNyT",
        "outputId": "77e1f77e-a13a-4cdc-d2d3-2dd074f51d62"
      },
      "source": [
        "data.describe()"
      ],
      "execution_count": 45,
      "outputs": [
        {
          "output_type": "execute_result",
          "data": {
            "text/html": [
              "<div>\n",
              "<style scoped>\n",
              "    .dataframe tbody tr th:only-of-type {\n",
              "        vertical-align: middle;\n",
              "    }\n",
              "\n",
              "    .dataframe tbody tr th {\n",
              "        vertical-align: top;\n",
              "    }\n",
              "\n",
              "    .dataframe thead th {\n",
              "        text-align: right;\n",
              "    }\n",
              "</style>\n",
              "<table border=\"1\" class=\"dataframe\">\n",
              "  <thead>\n",
              "    <tr style=\"text-align: right;\">\n",
              "      <th></th>\n",
              "      <th>Hours</th>\n",
              "      <th>Scores</th>\n",
              "    </tr>\n",
              "  </thead>\n",
              "  <tbody>\n",
              "    <tr>\n",
              "      <th>count</th>\n",
              "      <td>25.000000</td>\n",
              "      <td>25.000000</td>\n",
              "    </tr>\n",
              "    <tr>\n",
              "      <th>mean</th>\n",
              "      <td>5.012000</td>\n",
              "      <td>51.480000</td>\n",
              "    </tr>\n",
              "    <tr>\n",
              "      <th>std</th>\n",
              "      <td>2.525094</td>\n",
              "      <td>25.286887</td>\n",
              "    </tr>\n",
              "    <tr>\n",
              "      <th>min</th>\n",
              "      <td>1.100000</td>\n",
              "      <td>17.000000</td>\n",
              "    </tr>\n",
              "    <tr>\n",
              "      <th>25%</th>\n",
              "      <td>2.700000</td>\n",
              "      <td>30.000000</td>\n",
              "    </tr>\n",
              "    <tr>\n",
              "      <th>50%</th>\n",
              "      <td>4.800000</td>\n",
              "      <td>47.000000</td>\n",
              "    </tr>\n",
              "    <tr>\n",
              "      <th>75%</th>\n",
              "      <td>7.400000</td>\n",
              "      <td>75.000000</td>\n",
              "    </tr>\n",
              "    <tr>\n",
              "      <th>max</th>\n",
              "      <td>9.200000</td>\n",
              "      <td>95.000000</td>\n",
              "    </tr>\n",
              "  </tbody>\n",
              "</table>\n",
              "</div>"
            ],
            "text/plain": [
              "           Hours     Scores\n",
              "count  25.000000  25.000000\n",
              "mean    5.012000  51.480000\n",
              "std     2.525094  25.286887\n",
              "min     1.100000  17.000000\n",
              "25%     2.700000  30.000000\n",
              "50%     4.800000  47.000000\n",
              "75%     7.400000  75.000000\n",
              "max     9.200000  95.000000"
            ]
          },
          "metadata": {
            "tags": []
          },
          "execution_count": 45
        }
      ]
    },
    {
      "cell_type": "code",
      "metadata": {
        "colab": {
          "base_uri": "https://localhost:8080/"
        },
        "id": "bFdtrqtAudl2",
        "outputId": "21baf2f1-b1c1-4fe0-f303-37f617e9f0ee"
      },
      "source": [
        "data.columns"
      ],
      "execution_count": 46,
      "outputs": [
        {
          "output_type": "execute_result",
          "data": {
            "text/plain": [
              "Index(['Hours', 'Scores'], dtype='object')"
            ]
          },
          "metadata": {
            "tags": []
          },
          "execution_count": 46
        }
      ]
    },
    {
      "cell_type": "code",
      "metadata": {
        "id": "olaTw9i60Fuq"
      },
      "source": [
        "x = data['Hours']\n",
        "y = data['Scores']"
      ],
      "execution_count": 47,
      "outputs": []
    },
    {
      "cell_type": "code",
      "metadata": {
        "id": "lHFRVlHEzvyM"
      },
      "source": [
        "x_matrix = x.values.reshape(-1,1)"
      ],
      "execution_count": 48,
      "outputs": []
    },
    {
      "cell_type": "markdown",
      "metadata": {
        "id": "FTfV7YEVzyQc"
      },
      "source": [
        "#splitting the data into train and test"
      ]
    },
    {
      "cell_type": "code",
      "metadata": {
        "id": "LypN9bTfzBL0"
      },
      "source": [
        "x_train, x_test, y_train, y_test = train_test_split(x_matrix, y, test_size=0.2, random_state=0)"
      ],
      "execution_count": 49,
      "outputs": []
    },
    {
      "cell_type": "code",
      "metadata": {
        "colab": {
          "base_uri": "https://localhost:8080/"
        },
        "id": "V8IhZ-8DztEp",
        "outputId": "798a9ebe-cfb4-4398-8926-e937a037f8cf"
      },
      "source": [
        "regressor=LinearRegression()\n",
        "regressor.fit(x_train, y_train)"
      ],
      "execution_count": 50,
      "outputs": [
        {
          "output_type": "execute_result",
          "data": {
            "text/plain": [
              "LinearRegression(copy_X=True, fit_intercept=True, n_jobs=None, normalize=False)"
            ]
          },
          "metadata": {
            "tags": []
          },
          "execution_count": 50
        }
      ]
    },
    {
      "cell_type": "code",
      "metadata": {
        "colab": {
          "base_uri": "https://localhost:8080/",
          "height": 265
        },
        "id": "zWiXfR_6zNqz",
        "outputId": "c7b059d1-53b1-49ba-daf7-f443839b8ad0"
      },
      "source": [
        "line = regressor.coef_*x+regressor.intercept_\n",
        "plt.scatter(x,y)\n",
        "plt.plot(x,line)\n",
        "plt.show()"
      ],
      "execution_count": 51,
      "outputs": [
        {
          "output_type": "display_data",
          "data": {
            "image/png": "[encoded data removed]",
            "text/plain": [
              "<Figure size 432x288 with 1 Axes>"
            ]
          },
          "metadata": {
            "tags": [],
            "needs_background": "light"
          }
        }
      ]
    },
    {
      "cell_type": "code",
      "metadata": {
        "colab": {
          "base_uri": "https://localhost:8080/"
        },
        "id": "bKg3-UGs0hdj",
        "outputId": "b62bd1f9-a6af-4319-c886-fc2226b4a53a"
      },
      "source": [
        "print(x_test)\n",
        "y_pred=regressor.predict(x_test)"
      ],
      "execution_count": 52,
      "outputs": [
        {
          "output_type": "stream",
          "text": [
            "[[1.5]\n",
            " [3.2]\n",
            " [7.4]\n",
            " [2.5]\n",
            " [5.9]]\n"
          ],
          "name": "stdout"
        }
      ]
    },
    {
      "cell_type": "code",
      "metadata": {
        "colab": {
          "base_uri": "https://localhost:8080/",
          "height": 202
        },
        "id": "V2Jhzhy60lDN",
        "outputId": "8d697369-bbe7-40eb-e888-1eabf8564f49"
      },
      "source": [
        "data= pd.DataFrame({'Actual': y_test, 'Predicted': y_pred})\n",
        "data"
      ],
      "execution_count": 53,
      "outputs": [
        {
          "output_type": "execute_result",
          "data": {
            "text/html": [
              "<div>\n",
              "<style scoped>\n",
              "    .dataframe tbody tr th:only-of-type {\n",
              "        vertical-align: middle;\n",
              "    }\n",
              "\n",
              "    .dataframe tbody tr th {\n",
              "        vertical-align: top;\n",
              "    }\n",
              "\n",
              "    .dataframe thead th {\n",
              "        text-align: right;\n",
              "    }\n",
              "</style>\n",
              "<table border=\"1\" class=\"dataframe\">\n",
              "  <thead>\n",
              "    <tr style=\"text-align: right;\">\n",
              "      <th></th>\n",
              "      <th>Actual</th>\n",
              "      <th>Predicted</th>\n",
              "    </tr>\n",
              "  </thead>\n",
              "  <tbody>\n",
              "    <tr>\n",
              "      <th>5</th>\n",
              "      <td>20</td>\n",
              "      <td>16.884145</td>\n",
              "    </tr>\n",
              "    <tr>\n",
              "      <th>2</th>\n",
              "      <td>27</td>\n",
              "      <td>33.732261</td>\n",
              "    </tr>\n",
              "    <tr>\n",
              "      <th>19</th>\n",
              "      <td>69</td>\n",
              "      <td>75.357018</td>\n",
              "    </tr>\n",
              "    <tr>\n",
              "      <th>16</th>\n",
              "      <td>30</td>\n",
              "      <td>26.794801</td>\n",
              "    </tr>\n",
              "    <tr>\n",
              "      <th>11</th>\n",
              "      <td>62</td>\n",
              "      <td>60.491033</td>\n",
              "    </tr>\n",
              "  </tbody>\n",
              "</table>\n",
              "</div>"
            ],
            "text/plain": [
              "    Actual  Predicted\n",
              "5       20  16.884145\n",
              "2       27  33.732261\n",
              "19      69  75.357018\n",
              "16      30  26.794801\n",
              "11      62  60.491033"
            ]
          },
          "metadata": {
            "tags": []
          },
          "execution_count": 53
        }
      ]
    },
    {
      "cell_type": "code",
      "metadata": {
        "colab": {
          "base_uri": "https://localhost:8080/"
        },
        "id": "Xk6Ist2Jxauy",
        "outputId": "a7b8491f-44dd-4ad5-d836-58b7a39705c4"
      },
      "source": [
        "my_pred=regressor.predict(np.array([9.25]).reshape(1,1))\n",
        "print('Predicted score for 9.25 hrs per day = {}'.format(my_pred[0]))\n"
      ],
      "execution_count": 54,
      "outputs": [
        {
          "output_type": "stream",
          "text": [
            "Predicted score for 9.25 hrs per day = 93.69173248737539\n"
          ],
          "name": "stdout"
        }
      ]
    },
    {
      "cell_type": "markdown",
      "metadata": {
        "id": "ptbQYuMh1LMf"
      },
      "source": [
        "#evaluate the model (mse)MEAN SQUARED ERROR"
      ]
    },
    {
      "cell_type": "code",
      "metadata": {
        "colab": {
          "base_uri": "https://localhost:8080/"
        },
        "id": "xvUjg8z21MS6",
        "outputId": "6e821453-3f55-41b0-9f47-7fbee60ece4d"
      },
      "source": [
        "from sklearn import metrics\n",
        "mean_absolute_error=metrics.mean_absolute_error(y_test,y_pred)\n",
        "print('Mean absolute error =',mean_absolute_error )"
      ],
      "execution_count": 56,
      "outputs": [
        {
          "output_type": "stream",
          "text": [
            "Mean absolute error = 4.183859899002982\n"
          ],
          "name": "stdout"
        }
      ]
    },
    {
      "cell_type": "markdown",
      "metadata": {
        "id": "t6BIL9Z71pEC"
      },
      "source": [
        "#THANK YOU\n"
      ]
    },
    {
      "cell_type": "code",
      "metadata": {
        "id": "RrMBkHEkrt3K"
      },
      "source": [
        ""
      ],
      "execution_count": 49,
      "outputs": []
    }
  ]
}